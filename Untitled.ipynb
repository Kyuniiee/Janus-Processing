{
 "cells": [
  {
   "cell_type": "code",
   "execution_count": 1,
   "id": "a8e48dea",
   "metadata": {},
   "outputs": [],
   "source": [
    "import seaborn as sns\n",
    "import pandas as pd\n",
    "import numpy as np\n",
    "import matplotlib.pyplot as plt\n"
   ]
  },
  {
   "cell_type": "code",
   "execution_count": 2,
   "id": "37d86e9c",
   "metadata": {},
   "outputs": [],
   "source": [
    "K6066_Alpelisib = pd.read_csv(\"/Users/parke15/Downloads/20210707_K6066_Alpelisib_combo_AUC_merged.csv\",header = 0)"
   ]
  },
  {
   "cell_type": "code",
   "execution_count": 3,
   "id": "e73ab0c1",
   "metadata": {},
   "outputs": [],
   "source": [
    "K9043_Alpelisib = pd.read_csv(\"/Users/parke15/Downloads/20210713_K9043_Alpelisib_combo_AUC_merged.csv\",header = 0)"
   ]
  },
  {
   "cell_type": "code",
   "execution_count": 4,
   "id": "48547bc5",
   "metadata": {},
   "outputs": [],
   "source": [
    "K8484_Alpelisib = pd.read_csv(\"/Users/parke15/Downloads/20210707_K8484_Alpelisib_combo_AUC_merged.csv\", header = 0)"
   ]
  },
  {
   "cell_type": "code",
   "execution_count": 6,
   "id": "7bab76a8",
   "metadata": {},
   "outputs": [],
   "source": [
    "combined_df = pd.read_csv(\"/Users/parke15/Downloads/Mousescreening_other_celllines.csv\", header = 0)"
   ]
  },
  {
   "cell_type": "code",
   "execution_count": 5,
   "id": "5eb174a2",
   "metadata": {},
   "outputs": [],
   "source": [
    "K6066_Taselisib = pd.read_csv(\"/Users/parke15/Downloads/20210913_K6066_Taselisib_combo_AUC_merged.csv\", header = 0)\n"
   ]
  },
  {
   "cell_type": "code",
   "execution_count": 6,
   "id": "7c11173e",
   "metadata": {},
   "outputs": [],
   "source": [
    "K8484_Taselisib = pd.read_csv(\"/Users/parke15/Downloads/20210913_confluence_K8484_combo_AUC_merged.csv\", header = 0)"
   ]
  },
  {
   "cell_type": "code",
   "execution_count": 7,
   "id": "2ee32d3b",
   "metadata": {},
   "outputs": [],
   "source": [
    "K9043_Taselisib = pd.read_csv(\"/Users/parke15/Downloads/20210913_K9043_Taselisib_combo_AUC_merged.csv\", header = 0)"
   ]
  },
  {
   "cell_type": "code",
   "execution_count": 8,
   "id": "b99e8843",
   "metadata": {},
   "outputs": [],
   "source": [
    "K6066_GDC0077 = pd.read_csv(\"/Users/parke15/Downloads/20210726_K6066_GDC-0077_combo_AUC_merged.csv\", header = 0)\n",
    "K8484_GDC0077 = pd.read_csv(\"/Users/parke15/Downloads/20210810_K8484_GDC-0077_combo_AUC_merged.csv\", header = 0)\n",
    "K9043_GDC0077 = pd.read_csv(\"/Users/parke15/Downloads/20210803_K9043_GDC-0077_combo_AUC_merged.csv\", header = 0)"
   ]
  },
  {
   "cell_type": "code",
   "execution_count": 8,
   "id": "f6018a4b",
   "metadata": {},
   "outputs": [],
   "source": [
    "def rename_columns(cell_line):\n",
    "    cell_line_name = cell_line[0:5]\n",
    "    cell_line = cell_line.rename(columns = {'Alpelisib':cell_line_name+'ALP', 'DMSO':cell_line_name+'DMSO'})\n",
    "    return cell_line"
   ]
  },
  {
   "cell_type": "code",
   "execution_count": 9,
   "id": "2843f07f",
   "metadata": {},
   "outputs": [
    {
     "ename": "NameError",
     "evalue": "name 'K9043_GDC0077' is not defined",
     "output_type": "error",
     "traceback": [
      "\u001b[0;31m---------------------------------------------------------------------------\u001b[0m",
      "\u001b[0;31mNameError\u001b[0m                                 Traceback (most recent call last)",
      "\u001b[0;32m<ipython-input-9-0f735906ec2e>\u001b[0m in \u001b[0;36m<module>\u001b[0;34m\u001b[0m\n\u001b[0;32m----> 1\u001b[0;31m \u001b[0mK9043_GDC0077\u001b[0m \u001b[0;34m=\u001b[0m \u001b[0mK9043_GDC0077\u001b[0m\u001b[0;34m.\u001b[0m\u001b[0mrename\u001b[0m\u001b[0;34m(\u001b[0m\u001b[0mcolumns\u001b[0m \u001b[0;34m=\u001b[0m \u001b[0;34m{\u001b[0m\u001b[0;34m\"GDC-0077\"\u001b[0m\u001b[0;34m:\u001b[0m\u001b[0;34m\"K9043_GDC0077\"\u001b[0m\u001b[0;34m,\u001b[0m \u001b[0;34m\"DMSO\"\u001b[0m\u001b[0;34m:\u001b[0m\u001b[0;34m'K9043_GDC0077_DMSO'\u001b[0m\u001b[0;34m}\u001b[0m\u001b[0;34m)\u001b[0m\u001b[0;34m\u001b[0m\u001b[0;34m\u001b[0m\u001b[0m\n\u001b[0m",
      "\u001b[0;31mNameError\u001b[0m: name 'K9043_GDC0077' is not defined"
     ]
    }
   ],
   "source": [
    "K9043_GDC0077 = K9043_GDC0077.rename(columns = {\"GDC-0077\":\"K9043_GDC0077\", \"DMSO\":'K9043_GDC0077_DMSO'})"
   ]
  },
  {
   "cell_type": "code",
   "execution_count": 73,
   "id": "9359c641",
   "metadata": {},
   "outputs": [
    {
     "data": {
      "text/plain": [
       "0                                     NaN\n",
       "1                                     NaN\n",
       "2                                     NaN\n",
       "3                                     NaN\n",
       "4      Autophagy; Reactive Oxygen Species\n",
       "                      ...                \n",
       "327                                   NaN\n",
       "328                                   NaN\n",
       "329                   Autophagy; Survivin\n",
       "330                                   NaN\n",
       "331                   Endothelin Receptor\n",
       "Name: Target, Length: 332, dtype: object"
      ]
     },
     "execution_count": 73,
     "metadata": {},
     "output_type": "execute_result"
    }
   ],
   "source": [
    "K9043_GDC0077.pop('Target')"
   ]
  },
  {
   "cell_type": "code",
   "execution_count": 58,
   "id": "73858d17",
   "metadata": {},
   "outputs": [
    {
     "data": {
      "text/html": [
       "<div>\n",
       "<style scoped>\n",
       "    .dataframe tbody tr th:only-of-type {\n",
       "        vertical-align: middle;\n",
       "    }\n",
       "\n",
       "    .dataframe tbody tr th {\n",
       "        vertical-align: top;\n",
       "    }\n",
       "\n",
       "    .dataframe thead th {\n",
       "        text-align: right;\n",
       "    }\n",
       "</style>\n",
       "<table border=\"1\" class=\"dataframe\">\n",
       "  <thead>\n",
       "    <tr style=\"text-align: right;\">\n",
       "      <th></th>\n",
       "      <th>Drug</th>\n",
       "      <th>Target</th>\n",
       "      <th>K8484_Tas_DMSO</th>\n",
       "      <th>K8484_Tas</th>\n",
       "    </tr>\n",
       "  </thead>\n",
       "  <tbody>\n",
       "    <tr>\n",
       "      <th>0</th>\n",
       "      <td>01-77</td>\n",
       "      <td>NaN</td>\n",
       "      <td>1.000000</td>\n",
       "      <td>0.523767</td>\n",
       "    </tr>\n",
       "    <tr>\n",
       "      <th>1</th>\n",
       "      <td>4-9-8</td>\n",
       "      <td>NaN</td>\n",
       "      <td>1.000000</td>\n",
       "      <td>0.506353</td>\n",
       "    </tr>\n",
       "    <tr>\n",
       "      <th>2</th>\n",
       "      <td>8-100-2</td>\n",
       "      <td>NaN</td>\n",
       "      <td>1.000000</td>\n",
       "      <td>0.890237</td>\n",
       "    </tr>\n",
       "    <tr>\n",
       "      <th>3</th>\n",
       "      <td>9-2</td>\n",
       "      <td>NaN</td>\n",
       "      <td>0.993158</td>\n",
       "      <td>0.328805</td>\n",
       "    </tr>\n",
       "    <tr>\n",
       "      <th>4</th>\n",
       "      <td>(-)-Epigallocatechin Gallate</td>\n",
       "      <td>Autophagy; Reactive Oxygen Species</td>\n",
       "      <td>0.916335</td>\n",
       "      <td>0.849789</td>\n",
       "    </tr>\n",
       "    <tr>\n",
       "      <th>...</th>\n",
       "      <td>...</td>\n",
       "      <td>...</td>\n",
       "      <td>...</td>\n",
       "      <td>...</td>\n",
       "    </tr>\n",
       "    <tr>\n",
       "      <th>327</th>\n",
       "      <td>XF067-18</td>\n",
       "      <td>NaN</td>\n",
       "      <td>1.000000</td>\n",
       "      <td>0.443873</td>\n",
       "    </tr>\n",
       "    <tr>\n",
       "      <th>328</th>\n",
       "      <td>XY27</td>\n",
       "      <td>NaN</td>\n",
       "      <td>1.000000</td>\n",
       "      <td>0.416427</td>\n",
       "    </tr>\n",
       "    <tr>\n",
       "      <th>329</th>\n",
       "      <td>YM-155</td>\n",
       "      <td>Autophagy; Survivin</td>\n",
       "      <td>0.816811</td>\n",
       "      <td>0.263909</td>\n",
       "    </tr>\n",
       "    <tr>\n",
       "      <th>330</th>\n",
       "      <td>YX105</td>\n",
       "      <td>NaN</td>\n",
       "      <td>1.000000</td>\n",
       "      <td>0.524645</td>\n",
       "    </tr>\n",
       "    <tr>\n",
       "      <th>331</th>\n",
       "      <td>Zibotentan</td>\n",
       "      <td>Endothelin Receptor</td>\n",
       "      <td>1.000000</td>\n",
       "      <td>0.739114</td>\n",
       "    </tr>\n",
       "  </tbody>\n",
       "</table>\n",
       "<p>332 rows × 4 columns</p>\n",
       "</div>"
      ],
      "text/plain": [
       "                             Drug                              Target  \\\n",
       "0                           01-77                                 NaN   \n",
       "1                           4-9-8                                 NaN   \n",
       "2                         8-100-2                                 NaN   \n",
       "3                             9-2                                 NaN   \n",
       "4    (-)-Epigallocatechin Gallate  Autophagy; Reactive Oxygen Species   \n",
       "..                            ...                                 ...   \n",
       "327                      XF067-18                                 NaN   \n",
       "328                          XY27                                 NaN   \n",
       "329                        YM-155                 Autophagy; Survivin   \n",
       "330                         YX105                                 NaN   \n",
       "331                    Zibotentan                 Endothelin Receptor   \n",
       "\n",
       "     K8484_Tas_DMSO  K8484_Tas  \n",
       "0          1.000000   0.523767  \n",
       "1          1.000000   0.506353  \n",
       "2          1.000000   0.890237  \n",
       "3          0.993158   0.328805  \n",
       "4          0.916335   0.849789  \n",
       "..              ...        ...  \n",
       "327        1.000000   0.443873  \n",
       "328        1.000000   0.416427  \n",
       "329        0.816811   0.263909  \n",
       "330        1.000000   0.524645  \n",
       "331        1.000000   0.739114  \n",
       "\n",
       "[332 rows x 4 columns]"
      ]
     },
     "execution_count": 58,
     "metadata": {},
     "output_type": "execute_result"
    }
   ],
   "source": [
    "K8484_Taselisib"
   ]
  },
  {
   "cell_type": "code",
   "execution_count": 10,
   "id": "a41da4e6",
   "metadata": {},
   "outputs": [],
   "source": [
    "K6066_Alpelisib = K6066_Alpelisib.rename(columns = {\"Alpelisib\":\"K6066_ALP\", \"DMSO\":'K6066_DMSO'})"
   ]
  },
  {
   "cell_type": "code",
   "execution_count": 11,
   "id": "9420a91b",
   "metadata": {},
   "outputs": [],
   "source": [
    "K9043_Alpelisib = K9043_Alpelisib.rename(columns = {\"Alpelisib\":\"K9043_ALP\", \"DMSO\":'K9043_DMSO'})"
   ]
  },
  {
   "cell_type": "code",
   "execution_count": 76,
   "id": "b90eaaff",
   "metadata": {},
   "outputs": [],
   "source": [
    "combined_df = pd.merge(combined_df, K6066_GDC0077, on = 'Drug', how = 'inner')"
   ]
  },
  {
   "cell_type": "code",
   "execution_count": 12,
   "id": "a6680513",
   "metadata": {},
   "outputs": [
    {
     "data": {
      "text/plain": [
       "Index(['Unnamed: 0', 'Drug', 'K6066', 'K9043', 'K8484', 'BH124', 'K8082',\n",
       "       'K5143', 'K8250', 'A172', 'A204', 'A253', 'A2780', 'A388', 'A673',\n",
       "       'A875', 'HA1047', 'HA1054', 'HA114', 'HA1182', 'HA1213', 'HA1233',\n",
       "       'HA146', 'HA188', 'HA251', 'HA336', 'HA617', 'HA698', 'A101D', 'A431',\n",
       "       'A375', 'A498', 'A382', 'A704', 'PDAC_avg', 'All_screen_avg'],\n",
       "      dtype='object')"
      ]
     },
     "execution_count": 12,
     "metadata": {},
     "output_type": "execute_result"
    }
   ],
   "source": [
    "combined_df.columns"
   ]
  },
  {
   "cell_type": "code",
   "execution_count": 79,
   "id": "c92fa121",
   "metadata": {},
   "outputs": [],
   "source": [
    "column_order = ['Drug', 'K6066', 'K9043', 'K8484', 'BH124', 'K8082', 'K5143', 'K8250',\n",
    "       'HA1213','K8484_ALP', 'K6066_ALP','K8484_DMSO',, 'K6066_DMSO',\n",
    "       , 'K9043_DMSO', 'K8484_Tas_DMSO', 'K8484_Tas',\n",
    "       'K6066_Tas_DMSO', 'K6066_Tas', 'K9043_Tas_DMSO', 'K9043_Tas',\n",
    "       'K9043_GDC0077_DMSO', 'K9043_GDC0077', 'K8484_GDC0077_DMSO',\n",
    "       'K8484_GDC0077', 'K6066_GDC0077_DMSO', 'K6066_GDC0077', 'A172', 'A204', 'A253', 'A2780', 'A388', 'A673', 'A875',\n",
    "       'HA1047', 'HA1054', 'HA114', 'HA1182', 'HA1233', 'HA146', 'HA188',\n",
    "       'HA251', 'HA336', 'HA617', 'HA698', 'A101D', 'A431', 'A375', 'A498',\n",
    "       'A382', 'A704', ]"
   ]
  },
  {
   "cell_type": "code",
   "execution_count": 82,
   "id": "ce7edda8",
   "metadata": {},
   "outputs": [],
   "source": []
  },
  {
   "cell_type": "markdown",
   "id": "378d0eef",
   "metadata": {},
   "source": [
    "combined_df"
   ]
  },
  {
   "cell_type": "code",
   "execution_count": 80,
   "id": "816cff40",
   "metadata": {},
   "outputs": [],
   "source": []
  },
  {
   "cell_type": "code",
   "execution_count": 81,
   "id": "7945a6a3",
   "metadata": {},
   "outputs": [
    {
     "data": {
      "text/plain": [
       "Index(['Drug', 'K6066', 'K9043', 'K8484', 'BH124', 'K8082', 'K5143', 'K8250',\n",
       "       'HA1213', 'K8484_ALP', 'K8484_DMSO', 'K6066_ALP', 'K6066_DMSO',\n",
       "       'K9043_ALP', 'K9043_DMSO', 'K8484_Tas_DMSO', 'K8484_Tas',\n",
       "       'K6066_Tas_DMSO', 'K6066_Tas', 'K9043_Tas_DMSO', 'K9043_Tas',\n",
       "       'K9043_GDC0077_DMSO', 'K9043_GDC0077', 'K8484_GDC0077_DMSO',\n",
       "       'K8484_GDC0077', 'K6066_GDC0077_DMSO', 'K6066_GDC0077', 'A172', 'A204',\n",
       "       'A253', 'A2780', 'A388', 'A673', 'A875', 'HA1047', 'HA1054', 'HA114',\n",
       "       'HA1182', 'HA1233', 'HA146', 'HA188', 'HA251', 'HA336', 'HA617',\n",
       "       'HA698', 'A101D', 'A431', 'A375', 'A498', 'A382', 'A704'],\n",
       "      dtype='object')"
      ]
     },
     "execution_count": 81,
     "metadata": {},
     "output_type": "execute_result"
    }
   ],
   "source": []
  },
  {
   "cell_type": "code",
   "execution_count": 74,
   "id": "e075e565",
   "metadata": {},
   "outputs": [
    {
     "data": {
      "text/html": [
       "<div>\n",
       "<style scoped>\n",
       "    .dataframe tbody tr th:only-of-type {\n",
       "        vertical-align: middle;\n",
       "    }\n",
       "\n",
       "    .dataframe tbody tr th {\n",
       "        vertical-align: top;\n",
       "    }\n",
       "\n",
       "    .dataframe thead th {\n",
       "        text-align: right;\n",
       "    }\n",
       "</style>\n",
       "<table border=\"1\" class=\"dataframe\">\n",
       "  <thead>\n",
       "    <tr style=\"text-align: right;\">\n",
       "      <th></th>\n",
       "      <th>Drug</th>\n",
       "      <th>Target</th>\n",
       "      <th>Alpelisib</th>\n",
       "      <th>DMSO</th>\n",
       "    </tr>\n",
       "  </thead>\n",
       "  <tbody>\n",
       "    <tr>\n",
       "      <th>16</th>\n",
       "      <td>9-95-1</td>\n",
       "      <td>NaN</td>\n",
       "      <td>0.182743</td>\n",
       "      <td>0.282194</td>\n",
       "    </tr>\n",
       "  </tbody>\n",
       "</table>\n",
       "</div>"
      ],
      "text/plain": [
       "      Drug Target  Alpelisib      DMSO\n",
       "16  9-95-1    NaN   0.182743  0.282194"
      ]
     },
     "execution_count": 74,
     "metadata": {},
     "output_type": "execute_result"
    }
   ],
   "source": [
    "K9043_Alpelisib[K9043_Alpelisib['Drug']== '9-95-1']"
   ]
  },
  {
   "cell_type": "code",
   "execution_count": 12,
   "id": "675efb76",
   "metadata": {},
   "outputs": [],
   "source": [
    "combined_df = combined_df[columns_order]"
   ]
  },
  {
   "cell_type": "code",
   "execution_count": 15,
   "id": "9f6d86d8",
   "metadata": {},
   "outputs": [
    {
     "data": {
      "text/plain": [
       "0        0\n",
       "1        1\n",
       "2        2\n",
       "3        3\n",
       "4        4\n",
       "      ... \n",
       "327    327\n",
       "328    328\n",
       "329    329\n",
       "330    330\n",
       "331    331\n",
       "Name: Unnamed: 0, Length: 332, dtype: int64"
      ]
     },
     "execution_count": 15,
     "metadata": {},
     "output_type": "execute_result"
    }
   ],
   "source": [
    "combined_df.pop('Unnamed: 0')"
   ]
  },
  {
   "cell_type": "code",
   "execution_count": 75,
   "id": "b6130ec2",
   "metadata": {},
   "outputs": [
    {
     "data": {
      "text/html": [
       "<div>\n",
       "<style scoped>\n",
       "    .dataframe tbody tr th:only-of-type {\n",
       "        vertical-align: middle;\n",
       "    }\n",
       "\n",
       "    .dataframe tbody tr th {\n",
       "        vertical-align: top;\n",
       "    }\n",
       "\n",
       "    .dataframe thead th {\n",
       "        text-align: right;\n",
       "    }\n",
       "</style>\n",
       "<table border=\"1\" class=\"dataframe\">\n",
       "  <thead>\n",
       "    <tr style=\"text-align: right;\">\n",
       "      <th></th>\n",
       "      <th>Drug</th>\n",
       "      <th>Target</th>\n",
       "      <th>Alpelisib</th>\n",
       "      <th>DMSO</th>\n",
       "    </tr>\n",
       "  </thead>\n",
       "  <tbody>\n",
       "    <tr>\n",
       "      <th>0</th>\n",
       "      <td>01-77</td>\n",
       "      <td>NaN</td>\n",
       "      <td>0.957162</td>\n",
       "      <td>0.924165</td>\n",
       "    </tr>\n",
       "    <tr>\n",
       "      <th>1</th>\n",
       "      <td>4-9-8</td>\n",
       "      <td>NaN</td>\n",
       "      <td>1.000000</td>\n",
       "      <td>0.985187</td>\n",
       "    </tr>\n",
       "    <tr>\n",
       "      <th>2</th>\n",
       "      <td>8-100-2</td>\n",
       "      <td>NaN</td>\n",
       "      <td>0.981062</td>\n",
       "      <td>0.960959</td>\n",
       "    </tr>\n",
       "    <tr>\n",
       "      <th>3</th>\n",
       "      <td>9-2</td>\n",
       "      <td>NaN</td>\n",
       "      <td>0.938477</td>\n",
       "      <td>0.824942</td>\n",
       "    </tr>\n",
       "    <tr>\n",
       "      <th>4</th>\n",
       "      <td>(-)-Epigallocatechin Gallate</td>\n",
       "      <td>Autophagy; Reactive Oxygen Species</td>\n",
       "      <td>0.972501</td>\n",
       "      <td>0.812478</td>\n",
       "    </tr>\n",
       "    <tr>\n",
       "      <th>...</th>\n",
       "      <td>...</td>\n",
       "      <td>...</td>\n",
       "      <td>...</td>\n",
       "      <td>...</td>\n",
       "    </tr>\n",
       "    <tr>\n",
       "      <th>327</th>\n",
       "      <td>XF067-18</td>\n",
       "      <td>NaN</td>\n",
       "      <td>0.977729</td>\n",
       "      <td>0.962006</td>\n",
       "    </tr>\n",
       "    <tr>\n",
       "      <th>328</th>\n",
       "      <td>XY27</td>\n",
       "      <td>NaN</td>\n",
       "      <td>0.952541</td>\n",
       "      <td>0.916659</td>\n",
       "    </tr>\n",
       "    <tr>\n",
       "      <th>329</th>\n",
       "      <td>YM-155</td>\n",
       "      <td>Autophagy; Survivin</td>\n",
       "      <td>0.761796</td>\n",
       "      <td>0.805156</td>\n",
       "    </tr>\n",
       "    <tr>\n",
       "      <th>330</th>\n",
       "      <td>YX105</td>\n",
       "      <td>NaN</td>\n",
       "      <td>1.000000</td>\n",
       "      <td>0.978935</td>\n",
       "    </tr>\n",
       "    <tr>\n",
       "      <th>331</th>\n",
       "      <td>Zibotentan</td>\n",
       "      <td>Endothelin Receptor</td>\n",
       "      <td>0.933181</td>\n",
       "      <td>0.839251</td>\n",
       "    </tr>\n",
       "  </tbody>\n",
       "</table>\n",
       "<p>332 rows × 4 columns</p>\n",
       "</div>"
      ],
      "text/plain": [
       "                             Drug                              Target  \\\n",
       "0                           01-77                                 NaN   \n",
       "1                           4-9-8                                 NaN   \n",
       "2                         8-100-2                                 NaN   \n",
       "3                             9-2                                 NaN   \n",
       "4    (-)-Epigallocatechin Gallate  Autophagy; Reactive Oxygen Species   \n",
       "..                            ...                                 ...   \n",
       "327                      XF067-18                                 NaN   \n",
       "328                          XY27                                 NaN   \n",
       "329                        YM-155                 Autophagy; Survivin   \n",
       "330                         YX105                                 NaN   \n",
       "331                    Zibotentan                 Endothelin Receptor   \n",
       "\n",
       "     Alpelisib      DMSO  \n",
       "0     0.957162  0.924165  \n",
       "1     1.000000  0.985187  \n",
       "2     0.981062  0.960959  \n",
       "3     0.938477  0.824942  \n",
       "4     0.972501  0.812478  \n",
       "..         ...       ...  \n",
       "327   0.977729  0.962006  \n",
       "328   0.952541  0.916659  \n",
       "329   0.761796  0.805156  \n",
       "330   1.000000  0.978935  \n",
       "331   0.933181  0.839251  \n",
       "\n",
       "[332 rows x 4 columns]"
      ]
     },
     "execution_count": 75,
     "metadata": {},
     "output_type": "execute_result"
    }
   ],
   "source": [
    "K6066_Alpelisib"
   ]
  },
  {
   "cell_type": "code",
   "execution_count": 155,
   "id": "92337df9",
   "metadata": {},
   "outputs": [
    {
     "data": {
      "text/plain": [
       "Text(0, 0.5, 'GDC-0077 IC30 Combo')"
      ]
     },
     "execution_count": 155,
     "metadata": {},
     "output_type": "execute_result"
    },
    {
     "data": {
      "image/png": "[encoded data removed]",
      "text/plain": [
       "<Figure size 432x288 with 1 Axes>"
      ]
     },
     "metadata": {
      "needs_background": "light"
     },
     "output_type": "display_data"
    }
   ],
   "source": [
    "sns.scatterplot(data=K9043_GDC0077, x= 'DMSO', y = 'GDC-0077')\n",
    "sns.lineplot(x=[0,1],y=[0,0.7],color = 'green')\n",
    "sub_df=K9043_GDC0077[K9043_GDC0077['DMSO']*.7 > K9043_GDC0077['GDC-0077']]\n",
    "plt.scatter(sub_df['DMSO'], sub_df['GDC-0077'], marker='x', color='red')\n",
    "plt.title(\"K9043\")\n",
    "plt.xlabel(\"Single Drug\")\n",
    "plt.ylabel(\"GDC-0077 IC30 Combo\")"
   ]
  },
  {
   "cell_type": "code",
   "execution_count": 161,
   "id": "e96268ff",
   "metadata": {},
   "outputs": [
    {
     "data": {
      "text/plain": [
       "59"
      ]
     },
     "execution_count": 161,
     "metadata": {},
     "output_type": "execute_result"
    }
   ],
   "source": [
    "len(K9043_tas_drug_df)"
   ]
  },
  {
   "cell_type": "code",
   "execution_count": 10,
   "id": "0481befb",
   "metadata": {},
   "outputs": [],
   "source": [
    "K6066_alp_drug_df= sub_df"
   ]
  },
  {
   "cell_type": "code",
   "execution_count": 9,
   "id": "4a1c9b5f",
   "metadata": {},
   "outputs": [
    {
     "data": {
      "text/plain": [
       "Text(0, 0.5, 'Alpelisib IC30 Combo')"
      ]
     },
     "execution_count": 9,
     "metadata": {},
     "output_type": "execute_result"
    },
    {
     "data": {
      "image/png": "[encoded data removed]",
      "text/plain": [
       "<Figure size 432x288 with 1 Axes>"
      ]
     },
     "metadata": {
      "needs_background": "light"
     },
     "output_type": "display_data"
    }
   ],
   "source": [
    "sns.scatterplot(data=K6066_Alpelisib, x= 'DMSO', y = 'Alpelisib')\n",
    "sns.lineplot(x=[0,1],y=[0,0.7],color = 'green')\n",
    "sub_df=K6066_Alpelisib[K6066_Alpelisib['DMSO']*.7 > K6066_Alpelisib['Alpelisib']]\n",
    "plt.scatter(sub_df['DMSO'], sub_df['Alpelisib'], marker='x', color='red')\n",
    "plt.title(\"K6066\")\n",
    "plt.xlabel(\"Single Drug\")\n",
    "plt.ylabel(\"Alpelisib IC30 Combo\")"
   ]
  },
  {
   "cell_type": "code",
   "execution_count": 129,
   "id": "3c166083",
   "metadata": {},
   "outputs": [
    {
     "data": {
      "text/plain": [
       "Text(0.5, 1.0, 'K8484')"
      ]
     },
     "execution_count": 129,
     "metadata": {},
     "output_type": "execute_result"
    },
    {
     "data": {
      "image/png": "[encoded data removed]",
      "text/plain": [
       "<Figure size 432x288 with 1 Axes>"
      ]
     },
     "metadata": {
      "needs_background": "light"
     },
     "output_type": "display_data"
    }
   ],
   "source": [
    "sns.scatterplot(data=K8484_Alpelisib, x= 'DMSO', y = 'Alpelisib')\n",
    "sns.lineplot(x=[0,1],y=[0,0.7],color = 'green')\n",
    "sub_df=K8484_Alpelisib[K8484_Alpelisib['DMSO']*.7>K8484_Alpelisib['Alpelisib']]\n",
    "plt.scatter(sub_df['DMSO'], sub_df['Alpelisib'], marker='x', color='red')\n",
    "plt.xlabel(\"Single Drug\")\n",
    "plt.ylabel(\"Alpelisib IC30 Combo\")\n",
    "plt.title(\"K8484\")"
   ]
  },
  {
   "cell_type": "code",
   "execution_count": null,
   "id": "038013b7",
   "metadata": {},
   "outputs": [],
   "source": [
    "sns.scatterplot(data=K9043_Alpelisib, x= 'DMSO', y = 'Alpelisib')\n",
    "sns.lineplot(x=[0,1],y=[0,0.7],color = 'green')\n",
    "sub_df=K9043_Alpelisib[K9043_Alpelisib['DMSO']*.7 > K9043_Alpelisib['Alpelisib']]\n",
    "plt.scatter(sub_df['DMSO'], sub_df['Alpelisib'], marker='x', color='red')\n",
    "plt.title(\"K9043\")\n",
    "plt.xlabel(\"Single Drug\")\n",
    "plt.ylabel(\"Alpelisib IC30 Combo\")"
   ]
  },
  {
   "cell_type": "code",
   "execution_count": 124,
   "id": "e589fd4f",
   "metadata": {},
   "outputs": [
    {
     "data": {
      "text/html": [
       "<div>\n",
       "<style scoped>\n",
       "    .dataframe tbody tr th:only-of-type {\n",
       "        vertical-align: middle;\n",
       "    }\n",
       "\n",
       "    .dataframe tbody tr th {\n",
       "        vertical-align: top;\n",
       "    }\n",
       "\n",
       "    .dataframe thead th {\n",
       "        text-align: right;\n",
       "    }\n",
       "</style>\n",
       "<table border=\"1\" class=\"dataframe\">\n",
       "  <thead>\n",
       "    <tr style=\"text-align: right;\">\n",
       "      <th></th>\n",
       "      <th>Drug</th>\n",
       "      <th>Target</th>\n",
       "      <th>Alpelisib</th>\n",
       "      <th>DMSO</th>\n",
       "    </tr>\n",
       "  </thead>\n",
       "  <tbody>\n",
       "    <tr>\n",
       "      <th>16</th>\n",
       "      <td>9-95-1</td>\n",
       "      <td>NaN</td>\n",
       "      <td>0.172382</td>\n",
       "      <td>0.473313</td>\n",
       "    </tr>\n",
       "    <tr>\n",
       "      <th>74</th>\n",
       "      <td>Combretastatin A4</td>\n",
       "      <td>Microtubule/Tubulin</td>\n",
       "      <td>0.483920</td>\n",
       "      <td>0.712835</td>\n",
       "    </tr>\n",
       "    <tr>\n",
       "      <th>120</th>\n",
       "      <td>GSK1324726A</td>\n",
       "      <td>Epigenetic Reader Domain</td>\n",
       "      <td>0.645459</td>\n",
       "      <td>0.989504</td>\n",
       "    </tr>\n",
       "    <tr>\n",
       "      <th>245</th>\n",
       "      <td>Pimasertib</td>\n",
       "      <td>MEK</td>\n",
       "      <td>0.379169</td>\n",
       "      <td>0.622090</td>\n",
       "    </tr>\n",
       "    <tr>\n",
       "      <th>293</th>\n",
       "      <td>TAME hydrochloride</td>\n",
       "      <td>APC; Ser/Thr Protease</td>\n",
       "      <td>0.244659</td>\n",
       "      <td>0.551988</td>\n",
       "    </tr>\n",
       "  </tbody>\n",
       "</table>\n",
       "</div>"
      ],
      "text/plain": [
       "                   Drug                    Target  Alpelisib      DMSO\n",
       "16               9-95-1                       NaN   0.172382  0.473313\n",
       "74    Combretastatin A4       Microtubule/Tubulin   0.483920  0.712835\n",
       "120         GSK1324726A  Epigenetic Reader Domain   0.645459  0.989504\n",
       "245          Pimasertib                       MEK   0.379169  0.622090\n",
       "293  TAME hydrochloride     APC; Ser/Thr Protease   0.244659  0.551988"
      ]
     },
     "execution_count": 124,
     "metadata": {},
     "output_type": "execute_result"
    }
   ],
   "source": [
    "sub_df"
   ]
  },
  {
   "cell_type": "code",
   "execution_count": 131,
   "id": "2d8097d0",
   "metadata": {},
   "outputs": [
    {
     "data": {
      "text/plain": [
       "Text(0, 0.5, 'Alpelisib IC30 Combo')"
      ]
     },
     "execution_count": 131,
     "metadata": {},
     "output_type": "execute_result"
    },
    {
     "data": {
      "image/png": "[encoded data removed]",
      "text/plain": [
       "<Figure size 432x288 with 1 Axes>"
      ]
     },
     "metadata": {
      "needs_background": "light"
     },
     "output_type": "display_data"
    }
   ],
   "source": [
    "sns.scatterplot(data=K9043_Alpelisib, x= 'DMSO', y = 'Alpelisib')\n",
    "sns.lineplot(x=[0,1],y=[0,0.7],color = 'green')\n",
    "sub_df=K9043_Alpelisib[K9043_Alpelisib['DMSO']*.7 > K9043_Alpelisib['Alpelisib']]\n",
    "plt.scatter(sub_df['DMSO'], sub_df['Alpelisib'], marker='x', color='red')\n",
    "plt.title(\"K9043\")\n",
    "plt.xlabel(\"Single Drug\")\n",
    "plt.ylabel(\"Alpelisib IC30 Combo\")"
   ]
  },
  {
   "cell_type": "code",
   "execution_count": 135,
   "id": "e2ad111c",
   "metadata": {},
   "outputs": [
    {
     "data": {
      "text/plain": [
       "(             Drug              Target  Alpelisib      DMSO\n",
       " 197     Neratinib                EGFR   0.430037  0.639911\n",
       " 200     Nilotinib  Autophagy; Bcr-Abl   0.469589  0.673625\n",
       " 261  Sapanisertib     Autophagy; mTOR   0.333701  0.582814\n",
       " 324    Vps34-IN-1                PI3K   0.597554  0.864172,\n",
       "                    Drug                    Target  Alpelisib      DMSO\n",
       " 16               9-95-1                       NaN   0.172382  0.473313\n",
       " 74    Combretastatin A4       Microtubule/Tubulin   0.483920  0.712835\n",
       " 120         GSK1324726A  Epigenetic Reader Domain   0.645459  0.989504\n",
       " 245          Pimasertib                       MEK   0.379169  0.622090\n",
       " 293  TAME hydrochloride     APC; Ser/Thr Protease   0.244659  0.551988,\n",
       "                    Drug                     Target  Alpelisib      DMSO\n",
       " 16               9-95-1                        NaN   0.182743  0.282194\n",
       " 245          Pimasertib                        MEK   0.303227  0.501515\n",
       " 293  TAME hydrochloride      APC; Ser/Thr Protease   0.249888  0.377539\n",
       " 296        Tazemetostat  Histone Methyltransferase   0.303008  0.492585)"
      ]
     },
     "execution_count": 135,
     "metadata": {},
     "output_type": "execute_result"
    }
   ],
   "source": [
    "K6066_alp_drug_df,K8484_alp_drug_df, K9043_alp_drug_df\n"
   ]
  },
  {
   "cell_type": "code",
   "execution_count": 16,
   "id": "1abfb120",
   "metadata": {},
   "outputs": [
    {
     "data": {
      "text/html": [
       "<div>\n",
       "<style scoped>\n",
       "    .dataframe tbody tr th:only-of-type {\n",
       "        vertical-align: middle;\n",
       "    }\n",
       "\n",
       "    .dataframe tbody tr th {\n",
       "        vertical-align: top;\n",
       "    }\n",
       "\n",
       "    .dataframe thead th {\n",
       "        text-align: right;\n",
       "    }\n",
       "</style>\n",
       "<table border=\"1\" class=\"dataframe\">\n",
       "  <thead>\n",
       "    <tr style=\"text-align: right;\">\n",
       "      <th></th>\n",
       "      <th>Drug</th>\n",
       "      <th>K6066</th>\n",
       "      <th>K9043</th>\n",
       "      <th>K8484</th>\n",
       "      <th>BH124</th>\n",
       "      <th>K8082</th>\n",
       "      <th>K5143</th>\n",
       "      <th>K8250</th>\n",
       "      <th>HA1213</th>\n",
       "      <th>A172</th>\n",
       "      <th>...</th>\n",
       "      <th>HA251</th>\n",
       "      <th>HA336</th>\n",
       "      <th>HA617</th>\n",
       "      <th>HA698</th>\n",
       "      <th>A101D</th>\n",
       "      <th>A431</th>\n",
       "      <th>A375</th>\n",
       "      <th>A498</th>\n",
       "      <th>A382</th>\n",
       "      <th>A704</th>\n",
       "    </tr>\n",
       "  </thead>\n",
       "  <tbody>\n",
       "    <tr>\n",
       "      <th>0</th>\n",
       "      <td>Spebrutinib</td>\n",
       "      <td>0.962527</td>\n",
       "      <td>1.000000</td>\n",
       "      <td>0.868011</td>\n",
       "      <td>1.000000</td>\n",
       "      <td>1.000000</td>\n",
       "      <td>0.988090</td>\n",
       "      <td>0.982403</td>\n",
       "      <td>0.995916</td>\n",
       "      <td>0.828835</td>\n",
       "      <td>...</td>\n",
       "      <td>0.846774</td>\n",
       "      <td>0.994826</td>\n",
       "      <td>0.948757</td>\n",
       "      <td>0.912300</td>\n",
       "      <td>0.989517</td>\n",
       "      <td>0.984947</td>\n",
       "      <td>0.943238</td>\n",
       "      <td>0.858032</td>\n",
       "      <td>0.974410</td>\n",
       "      <td>0.724010</td>\n",
       "    </tr>\n",
       "    <tr>\n",
       "      <th>1</th>\n",
       "      <td>PF-543 (Citrate)</td>\n",
       "      <td>0.952605</td>\n",
       "      <td>0.955626</td>\n",
       "      <td>0.954012</td>\n",
       "      <td>1.000000</td>\n",
       "      <td>1.000000</td>\n",
       "      <td>0.977551</td>\n",
       "      <td>0.987449</td>\n",
       "      <td>1.000000</td>\n",
       "      <td>0.930351</td>\n",
       "      <td>...</td>\n",
       "      <td>0.963992</td>\n",
       "      <td>1.000000</td>\n",
       "      <td>1.000000</td>\n",
       "      <td>1.000000</td>\n",
       "      <td>1.000000</td>\n",
       "      <td>1.000000</td>\n",
       "      <td>1.000000</td>\n",
       "      <td>1.000000</td>\n",
       "      <td>1.000000</td>\n",
       "      <td>0.781271</td>\n",
       "    </tr>\n",
       "    <tr>\n",
       "      <th>2</th>\n",
       "      <td>SKI II</td>\n",
       "      <td>0.939260</td>\n",
       "      <td>1.000000</td>\n",
       "      <td>0.898101</td>\n",
       "      <td>1.000000</td>\n",
       "      <td>1.000000</td>\n",
       "      <td>0.996511</td>\n",
       "      <td>0.948506</td>\n",
       "      <td>1.000000</td>\n",
       "      <td>0.956474</td>\n",
       "      <td>...</td>\n",
       "      <td>0.913943</td>\n",
       "      <td>0.975702</td>\n",
       "      <td>0.930142</td>\n",
       "      <td>1.000000</td>\n",
       "      <td>0.973821</td>\n",
       "      <td>1.000000</td>\n",
       "      <td>0.808359</td>\n",
       "      <td>0.924898</td>\n",
       "      <td>1.000000</td>\n",
       "      <td>0.868509</td>\n",
       "    </tr>\n",
       "    <tr>\n",
       "      <th>3</th>\n",
       "      <td>PF-3758309</td>\n",
       "      <td>0.771396</td>\n",
       "      <td>0.619673</td>\n",
       "      <td>0.677507</td>\n",
       "      <td>0.980614</td>\n",
       "      <td>0.934309</td>\n",
       "      <td>0.950060</td>\n",
       "      <td>0.945369</td>\n",
       "      <td>0.470299</td>\n",
       "      <td>0.617226</td>\n",
       "      <td>...</td>\n",
       "      <td>0.436558</td>\n",
       "      <td>0.689593</td>\n",
       "      <td>0.906280</td>\n",
       "      <td>0.612185</td>\n",
       "      <td>0.283116</td>\n",
       "      <td>0.575999</td>\n",
       "      <td>0.582286</td>\n",
       "      <td>0.687895</td>\n",
       "      <td>0.629910</td>\n",
       "      <td>0.692375</td>\n",
       "    </tr>\n",
       "    <tr>\n",
       "      <th>4</th>\n",
       "      <td>Pelitinib</td>\n",
       "      <td>0.963421</td>\n",
       "      <td>1.000000</td>\n",
       "      <td>0.836053</td>\n",
       "      <td>1.000000</td>\n",
       "      <td>1.000000</td>\n",
       "      <td>0.973199</td>\n",
       "      <td>0.977371</td>\n",
       "      <td>1.000000</td>\n",
       "      <td>0.978827</td>\n",
       "      <td>...</td>\n",
       "      <td>0.944645</td>\n",
       "      <td>0.969481</td>\n",
       "      <td>0.935775</td>\n",
       "      <td>1.000000</td>\n",
       "      <td>1.000000</td>\n",
       "      <td>0.985849</td>\n",
       "      <td>0.904462</td>\n",
       "      <td>1.000000</td>\n",
       "      <td>1.000000</td>\n",
       "      <td>0.883700</td>\n",
       "    </tr>\n",
       "    <tr>\n",
       "      <th>...</th>\n",
       "      <td>...</td>\n",
       "      <td>...</td>\n",
       "      <td>...</td>\n",
       "      <td>...</td>\n",
       "      <td>...</td>\n",
       "      <td>...</td>\n",
       "      <td>...</td>\n",
       "      <td>...</td>\n",
       "      <td>...</td>\n",
       "      <td>...</td>\n",
       "      <td>...</td>\n",
       "      <td>...</td>\n",
       "      <td>...</td>\n",
       "      <td>...</td>\n",
       "      <td>...</td>\n",
       "      <td>...</td>\n",
       "      <td>...</td>\n",
       "      <td>...</td>\n",
       "      <td>...</td>\n",
       "      <td>...</td>\n",
       "      <td>...</td>\n",
       "    </tr>\n",
       "    <tr>\n",
       "      <th>327</th>\n",
       "      <td>MS4078</td>\n",
       "      <td>0.947442</td>\n",
       "      <td>0.922640</td>\n",
       "      <td>0.964001</td>\n",
       "      <td>1.000000</td>\n",
       "      <td>0.915762</td>\n",
       "      <td>0.944180</td>\n",
       "      <td>0.972837</td>\n",
       "      <td>NaN</td>\n",
       "      <td>0.795950</td>\n",
       "      <td>...</td>\n",
       "      <td>NaN</td>\n",
       "      <td>NaN</td>\n",
       "      <td>NaN</td>\n",
       "      <td>NaN</td>\n",
       "      <td>0.699895</td>\n",
       "      <td>1.000000</td>\n",
       "      <td>0.849987</td>\n",
       "      <td>0.738685</td>\n",
       "      <td>0.901185</td>\n",
       "      <td>0.910675</td>\n",
       "    </tr>\n",
       "    <tr>\n",
       "      <th>328</th>\n",
       "      <td>MS133</td>\n",
       "      <td>0.956073</td>\n",
       "      <td>0.951279</td>\n",
       "      <td>0.928685</td>\n",
       "      <td>1.000000</td>\n",
       "      <td>1.000000</td>\n",
       "      <td>0.951844</td>\n",
       "      <td>0.982101</td>\n",
       "      <td>NaN</td>\n",
       "      <td>0.878595</td>\n",
       "      <td>...</td>\n",
       "      <td>NaN</td>\n",
       "      <td>NaN</td>\n",
       "      <td>NaN</td>\n",
       "      <td>NaN</td>\n",
       "      <td>0.673298</td>\n",
       "      <td>0.902670</td>\n",
       "      <td>0.672412</td>\n",
       "      <td>0.497325</td>\n",
       "      <td>0.823085</td>\n",
       "      <td>0.905089</td>\n",
       "    </tr>\n",
       "    <tr>\n",
       "      <th>329</th>\n",
       "      <td>MS39</td>\n",
       "      <td>0.953003</td>\n",
       "      <td>0.949936</td>\n",
       "      <td>0.977352</td>\n",
       "      <td>1.000000</td>\n",
       "      <td>1.000000</td>\n",
       "      <td>0.950552</td>\n",
       "      <td>1.000000</td>\n",
       "      <td>NaN</td>\n",
       "      <td>0.779434</td>\n",
       "      <td>...</td>\n",
       "      <td>NaN</td>\n",
       "      <td>NaN</td>\n",
       "      <td>NaN</td>\n",
       "      <td>NaN</td>\n",
       "      <td>0.746550</td>\n",
       "      <td>0.972415</td>\n",
       "      <td>0.822276</td>\n",
       "      <td>0.659928</td>\n",
       "      <td>0.905832</td>\n",
       "      <td>0.892215</td>\n",
       "    </tr>\n",
       "    <tr>\n",
       "      <th>330</th>\n",
       "      <td>JH093-34</td>\n",
       "      <td>0.924727</td>\n",
       "      <td>0.952661</td>\n",
       "      <td>0.923050</td>\n",
       "      <td>0.957276</td>\n",
       "      <td>0.803138</td>\n",
       "      <td>0.926427</td>\n",
       "      <td>0.911346</td>\n",
       "      <td>NaN</td>\n",
       "      <td>0.863558</td>\n",
       "      <td>...</td>\n",
       "      <td>NaN</td>\n",
       "      <td>NaN</td>\n",
       "      <td>NaN</td>\n",
       "      <td>NaN</td>\n",
       "      <td>0.471298</td>\n",
       "      <td>0.940399</td>\n",
       "      <td>0.701261</td>\n",
       "      <td>0.731751</td>\n",
       "      <td>0.852128</td>\n",
       "      <td>0.854253</td>\n",
       "    </tr>\n",
       "    <tr>\n",
       "      <th>331</th>\n",
       "      <td>XF067-18</td>\n",
       "      <td>0.945480</td>\n",
       "      <td>0.957333</td>\n",
       "      <td>0.979165</td>\n",
       "      <td>0.881390</td>\n",
       "      <td>1.000000</td>\n",
       "      <td>0.909021</td>\n",
       "      <td>0.970195</td>\n",
       "      <td>NaN</td>\n",
       "      <td>0.926380</td>\n",
       "      <td>...</td>\n",
       "      <td>NaN</td>\n",
       "      <td>NaN</td>\n",
       "      <td>NaN</td>\n",
       "      <td>NaN</td>\n",
       "      <td>0.651294</td>\n",
       "      <td>0.933942</td>\n",
       "      <td>0.874410</td>\n",
       "      <td>0.580737</td>\n",
       "      <td>0.794575</td>\n",
       "      <td>1.000000</td>\n",
       "    </tr>\n",
       "  </tbody>\n",
       "</table>\n",
       "<p>332 rows × 33 columns</p>\n",
       "</div>"
      ],
      "text/plain": [
       "                 Drug     K6066     K9043     K8484     BH124     K8082  \\\n",
       "0         Spebrutinib  0.962527  1.000000  0.868011  1.000000  1.000000   \n",
       "1    PF-543 (Citrate)  0.952605  0.955626  0.954012  1.000000  1.000000   \n",
       "2              SKI II  0.939260  1.000000  0.898101  1.000000  1.000000   \n",
       "3          PF-3758309  0.771396  0.619673  0.677507  0.980614  0.934309   \n",
       "4           Pelitinib  0.963421  1.000000  0.836053  1.000000  1.000000   \n",
       "..                ...       ...       ...       ...       ...       ...   \n",
       "327            MS4078  0.947442  0.922640  0.964001  1.000000  0.915762   \n",
       "328             MS133  0.956073  0.951279  0.928685  1.000000  1.000000   \n",
       "329              MS39  0.953003  0.949936  0.977352  1.000000  1.000000   \n",
       "330          JH093-34  0.924727  0.952661  0.923050  0.957276  0.803138   \n",
       "331          XF067-18  0.945480  0.957333  0.979165  0.881390  1.000000   \n",
       "\n",
       "        K5143     K8250    HA1213      A172  ...     HA251     HA336  \\\n",
       "0    0.988090  0.982403  0.995916  0.828835  ...  0.846774  0.994826   \n",
       "1    0.977551  0.987449  1.000000  0.930351  ...  0.963992  1.000000   \n",
       "2    0.996511  0.948506  1.000000  0.956474  ...  0.913943  0.975702   \n",
       "3    0.950060  0.945369  0.470299  0.617226  ...  0.436558  0.689593   \n",
       "4    0.973199  0.977371  1.000000  0.978827  ...  0.944645  0.969481   \n",
       "..        ...       ...       ...       ...  ...       ...       ...   \n",
       "327  0.944180  0.972837       NaN  0.795950  ...       NaN       NaN   \n",
       "328  0.951844  0.982101       NaN  0.878595  ...       NaN       NaN   \n",
       "329  0.950552  1.000000       NaN  0.779434  ...       NaN       NaN   \n",
       "330  0.926427  0.911346       NaN  0.863558  ...       NaN       NaN   \n",
       "331  0.909021  0.970195       NaN  0.926380  ...       NaN       NaN   \n",
       "\n",
       "        HA617     HA698     A101D      A431      A375      A498      A382  \\\n",
       "0    0.948757  0.912300  0.989517  0.984947  0.943238  0.858032  0.974410   \n",
       "1    1.000000  1.000000  1.000000  1.000000  1.000000  1.000000  1.000000   \n",
       "2    0.930142  1.000000  0.973821  1.000000  0.808359  0.924898  1.000000   \n",
       "3    0.906280  0.612185  0.283116  0.575999  0.582286  0.687895  0.629910   \n",
       "4    0.935775  1.000000  1.000000  0.985849  0.904462  1.000000  1.000000   \n",
       "..        ...       ...       ...       ...       ...       ...       ...   \n",
       "327       NaN       NaN  0.699895  1.000000  0.849987  0.738685  0.901185   \n",
       "328       NaN       NaN  0.673298  0.902670  0.672412  0.497325  0.823085   \n",
       "329       NaN       NaN  0.746550  0.972415  0.822276  0.659928  0.905832   \n",
       "330       NaN       NaN  0.471298  0.940399  0.701261  0.731751  0.852128   \n",
       "331       NaN       NaN  0.651294  0.933942  0.874410  0.580737  0.794575   \n",
       "\n",
       "         A704  \n",
       "0    0.724010  \n",
       "1    0.781271  \n",
       "2    0.868509  \n",
       "3    0.692375  \n",
       "4    0.883700  \n",
       "..        ...  \n",
       "327  0.910675  \n",
       "328  0.905089  \n",
       "329  0.892215  \n",
       "330  0.854253  \n",
       "331  1.000000  \n",
       "\n",
       "[332 rows x 33 columns]"
      ]
     },
     "execution_count": 16,
     "metadata": {},
     "output_type": "execute_result"
    }
   ],
   "source": [
    "sns.scatterplot(data=K6066_Alpelisib, x= 'K6066_DMSO', y = 'K6066_ALP')\n",
    "sns.lineplot(x=[0,1],y=[0,0.7])\n",
    "sub_df=K6066_Alpelisib[K6066_Alpelisib['K6066_ALP']-K6066_Alpelisib['K6066_DMSO'] < -0.09]\n",
    "plt.scatter(sub_df['K6066_DMSO'], sub_df['K6066_ALP'], marker='x', color='red')\n",
    "plt.title(\"K6066\")"
   ]
  },
  {
   "cell_type": "code",
   "execution_count": null,
   "id": "deb98cc3",
   "metadata": {},
   "outputs": [],
   "source": []
  },
  {
   "cell_type": "code",
   "execution_count": 175,
   "id": "d37441b2",
   "metadata": {},
   "outputs": [
    {
     "data": {
      "text/plain": [
       "29"
      ]
     },
     "execution_count": 175,
     "metadata": {},
     "output_type": "execute_result"
    }
   ],
   "source": [
    "K6066_druglist = sub_df['Drug']\n",
    "len(K6066_druglist)"
   ]
  },
  {
   "cell_type": "code",
   "execution_count": 63,
   "id": "64c4f32d",
   "metadata": {},
   "outputs": [
    {
     "data": {
      "text/plain": [
       "Text(0.5, 1.0, 'K8484')"
      ]
     },
     "execution_count": 63,
     "metadata": {},
     "output_type": "execute_result"
    },
    {
     "data": {
      "image/png": "[encoded data removed]",
      "text/plain": [
       "<Figure size 432x288 with 1 Axes>"
      ]
     },
     "metadata": {
      "needs_background": "light"
     },
     "output_type": "display_data"
    }
   ],
   "source": [
    "sns.scatterplot(data=K8484_Alpelisib, x= 'DMSO', y = 'Alpelisib')\n",
    "sns.lineplot(x=[0,1],y=[0,0.7], marker=\"o\", color=\"k\")\n",
    "sub_df=K8484_Alpelisib[K8484_Alpelisib['Alpelisib']-K8484_Alpelisib['DMSO'] < -0.4]\n",
    "plt.scatter(sub_df['DMSO'], sub_df['Alpelisib'], marker='x', color='red')\n",
    "plt.title('K8484')"
   ]
  },
  {
   "cell_type": "code",
   "execution_count": 64,
   "id": "7ad37af3",
   "metadata": {},
   "outputs": [
    {
     "data": {
      "text/html": [
       "<div>\n",
       "<style scoped>\n",
       "    .dataframe tbody tr th:only-of-type {\n",
       "        vertical-align: middle;\n",
       "    }\n",
       "\n",
       "    .dataframe tbody tr th {\n",
       "        vertical-align: top;\n",
       "    }\n",
       "\n",
       "    .dataframe thead th {\n",
       "        text-align: right;\n",
       "    }\n",
       "</style>\n",
       "<table border=\"1\" class=\"dataframe\">\n",
       "  <thead>\n",
       "    <tr style=\"text-align: right;\">\n",
       "      <th></th>\n",
       "      <th>Drug</th>\n",
       "      <th>Target</th>\n",
       "      <th>Alpelisib</th>\n",
       "      <th>DMSO</th>\n",
       "    </tr>\n",
       "  </thead>\n",
       "  <tbody>\n",
       "    <tr>\n",
       "      <th>16</th>\n",
       "      <td>9-95-1</td>\n",
       "      <td>NaN</td>\n",
       "      <td>-0.127618</td>\n",
       "      <td>0.473313</td>\n",
       "    </tr>\n",
       "    <tr>\n",
       "      <th>46</th>\n",
       "      <td>AZ 628</td>\n",
       "      <td>Raf</td>\n",
       "      <td>0.520501</td>\n",
       "      <td>1.000000</td>\n",
       "    </tr>\n",
       "    <tr>\n",
       "      <th>74</th>\n",
       "      <td>Combretastatin A4</td>\n",
       "      <td>Microtubule/Tubulin</td>\n",
       "      <td>0.183920</td>\n",
       "      <td>0.712835</td>\n",
       "    </tr>\n",
       "    <tr>\n",
       "      <th>77</th>\n",
       "      <td>CPI-360</td>\n",
       "      <td>Histone Methyltransferase</td>\n",
       "      <td>0.233015</td>\n",
       "      <td>0.721148</td>\n",
       "    </tr>\n",
       "    <tr>\n",
       "      <th>114</th>\n",
       "      <td>Gemcitabine</td>\n",
       "      <td>Autophagy; DNA/RNA Synthesis; Nucleoside Antim...</td>\n",
       "      <td>0.102063</td>\n",
       "      <td>0.537199</td>\n",
       "    </tr>\n",
       "    <tr>\n",
       "      <th>120</th>\n",
       "      <td>GSK1324726A</td>\n",
       "      <td>Epigenetic Reader Domain</td>\n",
       "      <td>0.345459</td>\n",
       "      <td>0.989504</td>\n",
       "    </tr>\n",
       "    <tr>\n",
       "      <th>198</th>\n",
       "      <td>Nexturastat A</td>\n",
       "      <td>HDAC</td>\n",
       "      <td>0.518561</td>\n",
       "      <td>0.962396</td>\n",
       "    </tr>\n",
       "    <tr>\n",
       "      <th>230</th>\n",
       "      <td>PF-3758309</td>\n",
       "      <td>PAK</td>\n",
       "      <td>0.325303</td>\n",
       "      <td>0.856931</td>\n",
       "    </tr>\n",
       "    <tr>\n",
       "      <th>245</th>\n",
       "      <td>Pimasertib</td>\n",
       "      <td>MEK</td>\n",
       "      <td>0.079169</td>\n",
       "      <td>0.622090</td>\n",
       "    </tr>\n",
       "    <tr>\n",
       "      <th>246</th>\n",
       "      <td>Plinabulin</td>\n",
       "      <td>Microtubule/Tubulin</td>\n",
       "      <td>0.554716</td>\n",
       "      <td>1.000000</td>\n",
       "    </tr>\n",
       "    <tr>\n",
       "      <th>266</th>\n",
       "      <td>SB-3CT</td>\n",
       "      <td>MMP</td>\n",
       "      <td>0.580035</td>\n",
       "      <td>1.000000</td>\n",
       "    </tr>\n",
       "    <tr>\n",
       "      <th>282</th>\n",
       "      <td>SNS-032</td>\n",
       "      <td>CDK</td>\n",
       "      <td>0.551532</td>\n",
       "      <td>1.000000</td>\n",
       "    </tr>\n",
       "    <tr>\n",
       "      <th>285</th>\n",
       "      <td>Sorafenib (Tosylate)</td>\n",
       "      <td>Autophagy; FLT3; Raf; VEGFR</td>\n",
       "      <td>0.541488</td>\n",
       "      <td>1.000000</td>\n",
       "    </tr>\n",
       "    <tr>\n",
       "      <th>293</th>\n",
       "      <td>TAME hydrochloride</td>\n",
       "      <td>APC; Ser/Thr Protease</td>\n",
       "      <td>-0.055341</td>\n",
       "      <td>0.551988</td>\n",
       "    </tr>\n",
       "    <tr>\n",
       "      <th>296</th>\n",
       "      <td>Tazemetostat</td>\n",
       "      <td>Histone Methyltransferase</td>\n",
       "      <td>0.195870</td>\n",
       "      <td>0.658705</td>\n",
       "    </tr>\n",
       "    <tr>\n",
       "      <th>324</th>\n",
       "      <td>Vps34-IN-1</td>\n",
       "      <td>PI3K</td>\n",
       "      <td>0.465291</td>\n",
       "      <td>0.914822</td>\n",
       "    </tr>\n",
       "    <tr>\n",
       "      <th>329</th>\n",
       "      <td>YM-155</td>\n",
       "      <td>Autophagy; Survivin</td>\n",
       "      <td>0.570514</td>\n",
       "      <td>0.990098</td>\n",
       "    </tr>\n",
       "  </tbody>\n",
       "</table>\n",
       "</div>"
      ],
      "text/plain": [
       "                     Drug                                             Target  \\\n",
       "16                 9-95-1                                                NaN   \n",
       "46                 AZ 628                                                Raf   \n",
       "74      Combretastatin A4                                Microtubule/Tubulin   \n",
       "77                CPI-360                          Histone Methyltransferase   \n",
       "114           Gemcitabine  Autophagy; DNA/RNA Synthesis; Nucleoside Antim...   \n",
       "120           GSK1324726A                           Epigenetic Reader Domain   \n",
       "198         Nexturastat A                                               HDAC   \n",
       "230            PF-3758309                                                PAK   \n",
       "245            Pimasertib                                                MEK   \n",
       "246            Plinabulin                                Microtubule/Tubulin   \n",
       "266                SB-3CT                                                MMP   \n",
       "282               SNS-032                                                CDK   \n",
       "285  Sorafenib (Tosylate)                        Autophagy; FLT3; Raf; VEGFR   \n",
       "293    TAME hydrochloride                              APC; Ser/Thr Protease   \n",
       "296          Tazemetostat                          Histone Methyltransferase   \n",
       "324            Vps34-IN-1                                               PI3K   \n",
       "329                YM-155                                Autophagy; Survivin   \n",
       "\n",
       "     Alpelisib      DMSO  \n",
       "16   -0.127618  0.473313  \n",
       "46    0.520501  1.000000  \n",
       "74    0.183920  0.712835  \n",
       "77    0.233015  0.721148  \n",
       "114   0.102063  0.537199  \n",
       "120   0.345459  0.989504  \n",
       "198   0.518561  0.962396  \n",
       "230   0.325303  0.856931  \n",
       "245   0.079169  0.622090  \n",
       "246   0.554716  1.000000  \n",
       "266   0.580035  1.000000  \n",
       "282   0.551532  1.000000  \n",
       "285   0.541488  1.000000  \n",
       "293  -0.055341  0.551988  \n",
       "296   0.195870  0.658705  \n",
       "324   0.465291  0.914822  \n",
       "329   0.570514  0.990098  "
      ]
     },
     "execution_count": 64,
     "metadata": {},
     "output_type": "execute_result"
    }
   ],
   "source": [
    "sub_df"
   ]
  },
  {
   "cell_type": "code",
   "execution_count": 54,
   "id": "22083eb1",
   "metadata": {},
   "outputs": [],
   "source": [
    "K8484_Alpelisib['Alpelisib'] = K8484_Alpelisib['Alpelisib']-.3"
   ]
  },
  {
   "cell_type": "code",
   "execution_count": 199,
   "id": "a8bf2ac1",
   "metadata": {},
   "outputs": [
    {
     "data": {
      "text/plain": [
       "24"
      ]
     },
     "execution_count": 199,
     "metadata": {},
     "output_type": "execute_result"
    }
   ],
   "source": [
    "K8484_druglist = sub_df['Drug']\n",
    "len(K8484_druglist) "
   ]
  },
  {
   "cell_type": "code",
   "execution_count": 56,
   "id": "5398fc10",
   "metadata": {},
   "outputs": [
    {
     "data": {
      "text/html": [
       "<div>\n",
       "<style scoped>\n",
       "    .dataframe tbody tr th:only-of-type {\n",
       "        vertical-align: middle;\n",
       "    }\n",
       "\n",
       "    .dataframe tbody tr th {\n",
       "        vertical-align: top;\n",
       "    }\n",
       "\n",
       "    .dataframe thead th {\n",
       "        text-align: right;\n",
       "    }\n",
       "</style>\n",
       "<table border=\"1\" class=\"dataframe\">\n",
       "  <thead>\n",
       "    <tr style=\"text-align: right;\">\n",
       "      <th></th>\n",
       "      <th>Drug</th>\n",
       "      <th>Target</th>\n",
       "      <th>Alpelisib</th>\n",
       "      <th>DMSO</th>\n",
       "    </tr>\n",
       "  </thead>\n",
       "  <tbody>\n",
       "    <tr>\n",
       "      <th>0</th>\n",
       "      <td>01-77</td>\n",
       "      <td>NaN</td>\n",
       "      <td>0.700000</td>\n",
       "      <td>1.000000</td>\n",
       "    </tr>\n",
       "    <tr>\n",
       "      <th>1</th>\n",
       "      <td>4-9-8</td>\n",
       "      <td>NaN</td>\n",
       "      <td>0.700000</td>\n",
       "      <td>1.000000</td>\n",
       "    </tr>\n",
       "    <tr>\n",
       "      <th>2</th>\n",
       "      <td>8-100-2</td>\n",
       "      <td>NaN</td>\n",
       "      <td>0.655590</td>\n",
       "      <td>1.000000</td>\n",
       "    </tr>\n",
       "    <tr>\n",
       "      <th>3</th>\n",
       "      <td>9-2</td>\n",
       "      <td>NaN</td>\n",
       "      <td>0.617922</td>\n",
       "      <td>1.000000</td>\n",
       "    </tr>\n",
       "    <tr>\n",
       "      <th>4</th>\n",
       "      <td>(-)-Epigallocatechin Gallate</td>\n",
       "      <td>Autophagy; Reactive Oxygen Species</td>\n",
       "      <td>0.700000</td>\n",
       "      <td>1.000000</td>\n",
       "    </tr>\n",
       "    <tr>\n",
       "      <th>...</th>\n",
       "      <td>...</td>\n",
       "      <td>...</td>\n",
       "      <td>...</td>\n",
       "      <td>...</td>\n",
       "    </tr>\n",
       "    <tr>\n",
       "      <th>327</th>\n",
       "      <td>XF067-18</td>\n",
       "      <td>NaN</td>\n",
       "      <td>0.700000</td>\n",
       "      <td>1.000000</td>\n",
       "    </tr>\n",
       "    <tr>\n",
       "      <th>328</th>\n",
       "      <td>XY27</td>\n",
       "      <td>NaN</td>\n",
       "      <td>0.700000</td>\n",
       "      <td>1.000000</td>\n",
       "    </tr>\n",
       "    <tr>\n",
       "      <th>329</th>\n",
       "      <td>YM-155</td>\n",
       "      <td>Autophagy; Survivin</td>\n",
       "      <td>0.570514</td>\n",
       "      <td>0.990098</td>\n",
       "    </tr>\n",
       "    <tr>\n",
       "      <th>330</th>\n",
       "      <td>YX105</td>\n",
       "      <td>NaN</td>\n",
       "      <td>0.700000</td>\n",
       "      <td>1.000000</td>\n",
       "    </tr>\n",
       "    <tr>\n",
       "      <th>331</th>\n",
       "      <td>Zibotentan</td>\n",
       "      <td>Endothelin Receptor</td>\n",
       "      <td>0.700000</td>\n",
       "      <td>1.000000</td>\n",
       "    </tr>\n",
       "  </tbody>\n",
       "</table>\n",
       "<p>332 rows × 4 columns</p>\n",
       "</div>"
      ],
      "text/plain": [
       "                             Drug                              Target  \\\n",
       "0                           01-77                                 NaN   \n",
       "1                           4-9-8                                 NaN   \n",
       "2                         8-100-2                                 NaN   \n",
       "3                             9-2                                 NaN   \n",
       "4    (-)-Epigallocatechin Gallate  Autophagy; Reactive Oxygen Species   \n",
       "..                            ...                                 ...   \n",
       "327                      XF067-18                                 NaN   \n",
       "328                          XY27                                 NaN   \n",
       "329                        YM-155                 Autophagy; Survivin   \n",
       "330                         YX105                                 NaN   \n",
       "331                    Zibotentan                 Endothelin Receptor   \n",
       "\n",
       "     Alpelisib      DMSO  \n",
       "0     0.700000  1.000000  \n",
       "1     0.700000  1.000000  \n",
       "2     0.655590  1.000000  \n",
       "3     0.617922  1.000000  \n",
       "4     0.700000  1.000000  \n",
       "..         ...       ...  \n",
       "327   0.700000  1.000000  \n",
       "328   0.700000  1.000000  \n",
       "329   0.570514  0.990098  \n",
       "330   0.700000  1.000000  \n",
       "331   0.700000  1.000000  \n",
       "\n",
       "[332 rows x 4 columns]"
      ]
     },
     "execution_count": 56,
     "metadata": {},
     "output_type": "execute_result"
    }
   ],
   "source": [
    "K8484_Alpelisib"
   ]
  },
  {
   "cell_type": "code",
   "execution_count": 121,
   "id": "a4df5d58",
   "metadata": {},
   "outputs": [
    {
     "data": {
      "text/plain": [
       "3      False\n",
       "16      True\n",
       "46      True\n",
       "74     False\n",
       "77      True\n",
       "114    False\n",
       "120    False\n",
       "198    False\n",
       "200     True\n",
       "230    False\n",
       "245     True\n",
       "246     True\n",
       "266    False\n",
       "282     True\n",
       "285    False\n",
       "293     True\n",
       "296     True\n",
       "324     True\n",
       "329    False\n",
       "Name: Drug, dtype: bool"
      ]
     },
     "execution_count": 121,
     "metadata": {},
     "output_type": "execute_result"
    }
   ],
   "source": []
  },
  {
   "cell_type": "code",
   "execution_count": 20,
   "id": "678f487a",
   "metadata": {},
   "outputs": [],
   "source": [
    "K9043_Alpelisib = pd.read_csv('/Users/parke15/Downloads/20210713_K9043_Alpelisib_combo_AUC_merged.csv',header = 0)"
   ]
  },
  {
   "cell_type": "code",
   "execution_count": 121,
   "id": "b7c38f22",
   "metadata": {},
   "outputs": [
    {
     "data": {
      "text/plain": [
       "Text(0, 0.5, 'Alpelisib IC30 Combo')"
      ]
     },
     "execution_count": 121,
     "metadata": {},
     "output_type": "execute_result"
    },
    {
     "data": {
      "image/png": "[encoded data removed]",
      "text/plain": [
       "<Figure size 432x288 with 1 Axes>"
      ]
     },
     "metadata": {
      "needs_background": "light"
     },
     "output_type": "display_data"
    }
   ],
   "source": [
    "sns.scatterplot(data=K9043_Alpelisib, x = 'DMSO' , y = \"Alpelisib\")\n",
    "sns.lineplot(x=[0,1],y=[0,0.7],color = 'green')\n",
    "sub_df=K9043_Alpelisib[K9043_Alpelisib['DMSO']*0.7>K9043_Alpelisib['Alpelisib']]\n",
    "plt.scatter(sub_df['DMSO'], sub_df['Alpelisib'], marker='x', color='red')\n",
    "plt.title('K9043')\n",
    "plt.xlabel(\"Single Drug\")\n",
    "plt.ylabel(\"Alpelisib IC30 Combo\")"
   ]
  },
  {
   "cell_type": "code",
   "execution_count": 122,
   "id": "0ee91c09",
   "metadata": {},
   "outputs": [
    {
     "data": {
      "text/html": [
       "<div>\n",
       "<style scoped>\n",
       "    .dataframe tbody tr th:only-of-type {\n",
       "        vertical-align: middle;\n",
       "    }\n",
       "\n",
       "    .dataframe tbody tr th {\n",
       "        vertical-align: top;\n",
       "    }\n",
       "\n",
       "    .dataframe thead th {\n",
       "        text-align: right;\n",
       "    }\n",
       "</style>\n",
       "<table border=\"1\" class=\"dataframe\">\n",
       "  <thead>\n",
       "    <tr style=\"text-align: right;\">\n",
       "      <th></th>\n",
       "      <th>Drug</th>\n",
       "      <th>Target</th>\n",
       "      <th>Alpelisib</th>\n",
       "      <th>DMSO</th>\n",
       "    </tr>\n",
       "  </thead>\n",
       "  <tbody>\n",
       "    <tr>\n",
       "      <th>16</th>\n",
       "      <td>9-95-1</td>\n",
       "      <td>NaN</td>\n",
       "      <td>0.182743</td>\n",
       "      <td>0.282194</td>\n",
       "    </tr>\n",
       "    <tr>\n",
       "      <th>245</th>\n",
       "      <td>Pimasertib</td>\n",
       "      <td>MEK</td>\n",
       "      <td>0.303227</td>\n",
       "      <td>0.501515</td>\n",
       "    </tr>\n",
       "    <tr>\n",
       "      <th>293</th>\n",
       "      <td>TAME hydrochloride</td>\n",
       "      <td>APC; Ser/Thr Protease</td>\n",
       "      <td>0.249888</td>\n",
       "      <td>0.377539</td>\n",
       "    </tr>\n",
       "    <tr>\n",
       "      <th>296</th>\n",
       "      <td>Tazemetostat</td>\n",
       "      <td>Histone Methyltransferase</td>\n",
       "      <td>0.303008</td>\n",
       "      <td>0.492585</td>\n",
       "    </tr>\n",
       "  </tbody>\n",
       "</table>\n",
       "</div>"
      ],
      "text/plain": [
       "                   Drug                     Target  Alpelisib      DMSO\n",
       "16               9-95-1                        NaN   0.182743  0.282194\n",
       "245          Pimasertib                        MEK   0.303227  0.501515\n",
       "293  TAME hydrochloride      APC; Ser/Thr Protease   0.249888  0.377539\n",
       "296        Tazemetostat  Histone Methyltransferase   0.303008  0.492585"
      ]
     },
     "execution_count": 122,
     "metadata": {},
     "output_type": "execute_result"
    }
   ],
   "source": [
    "sub_df"
   ]
  },
  {
   "cell_type": "code",
   "execution_count": 172,
   "id": "9015860d",
   "metadata": {},
   "outputs": [],
   "source": [
    "K9043_druglist = sub_df['Drug']"
   ]
  },
  {
   "cell_type": "code",
   "execution_count": 173,
   "id": "b5c3c043",
   "metadata": {},
   "outputs": [
    {
     "data": {
      "text/plain": [
       "26"
      ]
     },
     "execution_count": 173,
     "metadata": {},
     "output_type": "execute_result"
    }
   ],
   "source": [
    "len(K9043_druglist)"
   ]
  },
  {
   "cell_type": "code",
   "execution_count": null,
   "id": "9fd3e673",
   "metadata": {},
   "outputs": [],
   "source": []
  },
  {
   "cell_type": "code",
   "execution_count": 23,
   "id": "998c36a3",
   "metadata": {},
   "outputs": [
    {
     "ename": "NameError",
     "evalue": "name 'ax' is not defined",
     "output_type": "error",
     "traceback": [
      "\u001b[0;31m---------------------------------------------------------------------------\u001b[0m",
      "\u001b[0;31mNameError\u001b[0m                                 Traceback (most recent call last)",
      "\u001b[0;32m<ipython-input-23-b02bd72ad3bb>\u001b[0m in \u001b[0;36m<module>\u001b[0;34m\u001b[0m\n\u001b[1;32m      1\u001b[0m \u001b[0mplt\u001b[0m\u001b[0;34m.\u001b[0m\u001b[0mplot\u001b[0m\u001b[0;34m(\u001b[0m\u001b[0;34m[\u001b[0m\u001b[0ma\u001b[0m\u001b[0;34m[\u001b[0m\u001b[0;36m0\u001b[0m\u001b[0;34m]\u001b[0m\u001b[0;34m,\u001b[0m\u001b[0mb\u001b[0m\u001b[0;34m[\u001b[0m\u001b[0;36m0\u001b[0m\u001b[0;34m]\u001b[0m\u001b[0;34m]\u001b[0m\u001b[0;34m,\u001b[0m\u001b[0;34m[\u001b[0m\u001b[0ma\u001b[0m\u001b[0;34m[\u001b[0m\u001b[0;36m1\u001b[0m\u001b[0;34m]\u001b[0m\u001b[0;34m,\u001b[0m\u001b[0mb\u001b[0m\u001b[0;34m[\u001b[0m\u001b[0;36m1\u001b[0m\u001b[0;34m]\u001b[0m\u001b[0;34m]\u001b[0m\u001b[0;34m,\u001b[0m \u001b[0mmarker\u001b[0m\u001b[0;34m=\u001b[0m\u001b[0;34m\"o\"\u001b[0m\u001b[0;34m,\u001b[0m \u001b[0mcolor\u001b[0m\u001b[0;34m=\u001b[0m\u001b[0;34m\"k\"\u001b[0m\u001b[0;34m)\u001b[0m\u001b[0;34m\u001b[0m\u001b[0;34m\u001b[0m\u001b[0m\n\u001b[0;32m----> 2\u001b[0;31m \u001b[0max\u001b[0m\u001b[0;34m.\u001b[0m\u001b[0mscatter\u001b[0m\u001b[0;34m(\u001b[0m\u001b[0mp\u001b[0m\u001b[0;34m[\u001b[0m\u001b[0;34m:\u001b[0m\u001b[0;34m,\u001b[0m\u001b[0;36m0\u001b[0m\u001b[0;34m]\u001b[0m\u001b[0;34m,\u001b[0m\u001b[0mp\u001b[0m\u001b[0;34m[\u001b[0m\u001b[0;34m:\u001b[0m\u001b[0;34m,\u001b[0m\u001b[0;36m1\u001b[0m\u001b[0;34m]\u001b[0m\u001b[0;34m,\u001b[0m \u001b[0mc\u001b[0m\u001b[0;34m=\u001b[0m\u001b[0misabove\u001b[0m\u001b[0;34m(\u001b[0m\u001b[0mp\u001b[0m\u001b[0;34m,\u001b[0m\u001b[0ma\u001b[0m\u001b[0;34m,\u001b[0m\u001b[0mb\u001b[0m\u001b[0;34m)\u001b[0m\u001b[0;34m,\u001b[0m \u001b[0mcmap\u001b[0m\u001b[0;34m=\u001b[0m\u001b[0;34m\"bwr\"\u001b[0m\u001b[0;34m,\u001b[0m \u001b[0mvmin\u001b[0m\u001b[0;34m=\u001b[0m\u001b[0;36m0\u001b[0m\u001b[0;34m,\u001b[0m \u001b[0mvmax\u001b[0m\u001b[0;34m=\u001b[0m\u001b[0;36m1\u001b[0m\u001b[0;34m)\u001b[0m\u001b[0;34m\u001b[0m\u001b[0;34m\u001b[0m\u001b[0m\n\u001b[0m",
      "\u001b[0;31mNameError\u001b[0m: name 'ax' is not defined"
     ]
    },
    {
     "data": {
      "image/png": "[encoded data removed]",
      "text/plain": [
       "<Figure size 432x288 with 1 Axes>"
      ]
     },
     "metadata": {
      "needs_background": "light"
     },
     "output_type": "display_data"
    }
   ],
   "source": [
    "plt.plot([a[0],b[0]],[a[1],b[1]], marker=\"o\", color=\"k\")\n",
    "ax.scatter(p[:,0],p[:,1], c=isabove(p,a,b), cmap=\"bwr\", vmin=0, vmax=1)"
   ]
  },
  {
   "cell_type": "code",
   "execution_count": null,
   "id": "0d6a8fd8",
   "metadata": {},
   "outputs": [],
   "source": []
  },
  {
   "cell_type": "code",
   "execution_count": 22,
   "id": "2672d4d2",
   "metadata": {},
   "outputs": [
    {
     "ename": "TypeError",
     "evalue": "Field elements must be 2- or 3-tuples, got '0      1.000000\n1      1.000000\n2      0.955590\n3      0.917922\n4      1.000000\n         ...   \n327    1.000000\n328    1.000000\n329    0.870514\n330    1.000000\n331    1.000000\nName: Alpelisib, Length: 332, dtype: float64'",
     "output_type": "error",
     "traceback": [
      "\u001b[0;31m---------------------------------------------------------------------------\u001b[0m",
      "\u001b[0;31mTypeError\u001b[0m                                 Traceback (most recent call last)",
      "\u001b[0;32m<ipython-input-22-bf8d0b568f51>\u001b[0m in \u001b[0;36m<module>\u001b[0;34m\u001b[0m\n\u001b[1;32m      9\u001b[0m \u001b[0;34m\u001b[0m\u001b[0m\n\u001b[1;32m     10\u001b[0m \u001b[0;34m\u001b[0m\u001b[0m\n\u001b[0;32m---> 11\u001b[0;31m \u001b[0mp\u001b[0m \u001b[0;34m=\u001b[0m \u001b[0mnp\u001b[0m\u001b[0;34m.\u001b[0m\u001b[0marray\u001b[0m\u001b[0;34m(\u001b[0m\u001b[0;34m[\u001b[0m\u001b[0mK8484_Alpelisib\u001b[0m\u001b[0;34m[\u001b[0m\u001b[0;34m'DMSO'\u001b[0m\u001b[0;34m]\u001b[0m\u001b[0;34m]\u001b[0m\u001b[0;34m,\u001b[0m\u001b[0;34m[\u001b[0m\u001b[0mK8484_Alpelisib\u001b[0m\u001b[0;34m[\u001b[0m\u001b[0;34m'Alpelisib'\u001b[0m\u001b[0;34m]\u001b[0m\u001b[0;34m]\u001b[0m\u001b[0;34m)\u001b[0m\u001b[0;34m\u001b[0m\u001b[0;34m\u001b[0m\u001b[0m\n\u001b[0m\u001b[1;32m     12\u001b[0m \u001b[0;34m\u001b[0m\u001b[0m\n\u001b[1;32m     13\u001b[0m \u001b[0;34m\u001b[0m\u001b[0m\n",
      "\u001b[0;31mTypeError\u001b[0m: Field elements must be 2- or 3-tuples, got '0      1.000000\n1      1.000000\n2      0.955590\n3      0.917922\n4      1.000000\n         ...   \n327    1.000000\n328    1.000000\n329    0.870514\n330    1.000000\n331    1.000000\nName: Alpelisib, Length: 332, dtype: float64'"
     ]
    }
   ],
   "source": [
    "import numpy as np\n",
    "import matplotlib.pyplot as plt\n",
    "\n",
    "isabove = lambda p, a,b: np.cross(p-a, b-a) < 0\n",
    "\n",
    "a = np.array([0,0])\n",
    "b = np.array([1,1])\n",
    "\n",
    "\n",
    "\n",
    "p = np.array([K8484_Alpelisib['DMSO']],[K8484_Alpelisib['Alpelisib']])\n",
    "\n",
    "\n",
    "ax.plot([a[0],b[0]],[a[1],b[1]], marker=\"o\", color=\"k\")\n",
    "ax.scatter(p[:,0],p[:,1], c=isabove(p,a,b), cmap=\"bwr\", vmin=0, vmax=1)\n",
    "\n",
    "\n",
    "\n",
    "\n",
    "ax.set_xlim(0,1)\n",
    "ax.set_ylim(0,1)\n",
    "plt.show()"
   ]
  },
  {
   "cell_type": "code",
   "execution_count": 65,
   "id": "326211e7",
   "metadata": {},
   "outputs": [
    {
     "data": {
      "text/plain": [
       "(332,)"
      ]
     },
     "execution_count": 65,
     "metadata": {},
     "output_type": "execute_result"
    }
   ],
   "source": [
    "K8484_Alpelisib['DMSO'].shape"
   ]
  },
  {
   "cell_type": "code",
   "execution_count": 64,
   "id": "d5dd4830",
   "metadata": {},
   "outputs": [
    {
     "data": {
      "text/plain": [
       "(332,)"
      ]
     },
     "execution_count": 64,
     "metadata": {},
     "output_type": "execute_result"
    }
   ],
   "source": [
    "K8484_Alpelisib['Alpelisib'].shape\n"
   ]
  },
  {
   "cell_type": "code",
   "execution_count": 33,
   "id": "c0a1ccc5",
   "metadata": {},
   "outputs": [
    {
     "data": {
      "text/plain": [
       "array([2, 4])"
      ]
     },
     "execution_count": 33,
     "metadata": {},
     "output_type": "execute_result"
    }
   ],
   "source": [
    "p1"
   ]
  },
  {
   "cell_type": "code",
   "execution_count": 34,
   "id": "9c67799d",
   "metadata": {},
   "outputs": [
    {
     "data": {
      "text/plain": [
       "array([3, 1])"
      ]
     },
     "execution_count": 34,
     "metadata": {},
     "output_type": "execute_result"
    }
   ],
   "source": [
    "p2"
   ]
  },
  {
   "cell_type": "code",
   "execution_count": 36,
   "id": "e22ce11b",
   "metadata": {},
   "outputs": [],
   "source": [
    "p = np.array([p1,p2])"
   ]
  },
  {
   "cell_type": "code",
   "execution_count": 37,
   "id": "b9f76cc1",
   "metadata": {},
   "outputs": [
    {
     "data": {
      "text/plain": [
       "array([[2, 4],\n",
       "       [3, 1]])"
      ]
     },
     "execution_count": 37,
     "metadata": {},
     "output_type": "execute_result"
    }
   ],
   "source": [
    "p"
   ]
  },
  {
   "cell_type": "code",
   "execution_count": 69,
   "id": "46ae00e3",
   "metadata": {},
   "outputs": [
    {
     "data": {
      "text/plain": [
       "array([1., 1.])"
      ]
     },
     "execution_count": 69,
     "metadata": {},
     "output_type": "execute_result"
    }
   ],
   "source": [
    "p[:,0]"
   ]
  },
  {
   "cell_type": "code",
   "execution_count": 70,
   "id": "32fccf60",
   "metadata": {},
   "outputs": [
    {
     "data": {
      "text/plain": [
       "array([1., 1.])"
      ]
     },
     "execution_count": 70,
     "metadata": {},
     "output_type": "execute_result"
    }
   ],
   "source": [
    "p[:,1]"
   ]
  },
  {
   "cell_type": "code",
   "execution_count": 75,
   "id": "dd97c987",
   "metadata": {},
   "outputs": [
    {
     "data": {
      "text/plain": [
       "0      1.000000\n",
       "1      1.000000\n",
       "2      1.000000\n",
       "3      1.000000\n",
       "4      1.000000\n",
       "         ...   \n",
       "327    1.000000\n",
       "328    1.000000\n",
       "329    0.990098\n",
       "330    1.000000\n",
       "331    1.000000\n",
       "Name: DMSO, Length: 332, dtype: float64"
      ]
     },
     "execution_count": 75,
     "metadata": {},
     "output_type": "execute_result"
    }
   ],
   "source": [
    "p[0]"
   ]
  },
  {
   "cell_type": "code",
   "execution_count": 73,
   "id": "48fb953c",
   "metadata": {},
   "outputs": [
    {
     "data": {
      "text/plain": [
       "[0      1.000000\n",
       " 1      1.000000\n",
       " 2      1.000000\n",
       " 3      1.000000\n",
       " 4      1.000000\n",
       "          ...   \n",
       " 327    1.000000\n",
       " 328    1.000000\n",
       " 329    0.990098\n",
       " 330    1.000000\n",
       " 331    1.000000\n",
       " Name: DMSO, Length: 332, dtype: float64,\n",
       " 0      1.000000\n",
       " 1      1.000000\n",
       " 2      0.955590\n",
       " 3      0.917922\n",
       " 4      1.000000\n",
       "          ...   \n",
       " 327    1.000000\n",
       " 328    1.000000\n",
       " 329    0.870514\n",
       " 330    1.000000\n",
       " 331    1.000000\n",
       " Name: Alpelisib, Length: 332, dtype: float64]"
      ]
     },
     "execution_count": 73,
     "metadata": {},
     "output_type": "execute_result"
    }
   ],
   "source": [
    "p"
   ]
  },
  {
   "cell_type": "code",
   "execution_count": null,
   "id": "bfde8a0d",
   "metadata": {},
   "outputs": [],
   "source": [
    "Alpelisib"
   ]
  },
  {
   "cell_type": "code",
   "execution_count": 162,
   "id": "f1b07714",
   "metadata": {},
   "outputs": [],
   "source": [
    "#### Create Venn diagrams with cell line with 3 overlapping genes\n",
    "def create_venn(something):\n",
    "    keys = []\n",
    "    count = 0   \n",
    "    for i,j in something.items():\n",
    "        keys.append(i)\n",
    "    \n",
    "    \n",
    "    \n",
    "    k = list(combinations(keys,3))\n",
    "    for i in range(0,len(k)-1):\n",
    "        set1 = set(something[k[i][0]][0:4])\n",
    "        set2 = set(something[k[i][1]][0:4])\n",
    "        set3 = set(something[k[i][2]][0:4])\n",
    "        \n",
    "        \n",
    "        if len(set1&set2&set3) >= 1:\n",
    "            count += 1\n",
    "            venn=venn3([set1, set2, set3], (k[i][0][0:5], k[i][1][0:5], k[i][2][0:5]))\n",
    "            venn.get_label_by_id('100').set_text('\\n'.join(set1-set2-set3))\n",
    "            venn.get_label_by_id('110').set_text('\\n'.join(set1&set2-set3))\n",
    "            venn.get_label_by_id('010').set_text('\\n'.join(set2-set3-set1))\n",
    "            venn.get_label_by_id('101').set_text('\\n'.join(set1&set3-set2))\n",
    "            venn.get_label_by_id('111').set_text('\\n'.join(set1&set2&set3))\n",
    "            venn.get_label_by_id('011').set_text('\\n'.join(set2&set3-set1))\n",
    "            venn.get_label_by_id('001').set_text('\\n'.join(set3-set2-set1))\n",
    "            plt.show()\n",
    "    \n",
    "    return count"
   ]
  },
  {
   "cell_type": "code",
   "execution_count": 182,
   "id": "ef4840cd",
   "metadata": {},
   "outputs": [],
   "source": [
    "K8484 = set(K8484_GDC0077_drug_df['Drug'])\n",
    "K9043 = set(K9043_GDC0077_drug_df['Drug'])\n",
    "K6066 = set(K6066_GDC0077_drug_df['Drug'])"
   ]
  },
  {
   "cell_type": "code",
   "execution_count": 188,
   "id": "1f330d77",
   "metadata": {},
   "outputs": [
    {
     "data": {
      "text/plain": [
       "(9, 25, 18)"
      ]
     },
     "execution_count": 188,
     "metadata": {},
     "output_type": "execute_result"
    }
   ],
   "source": [
    "len(K8484), len(K9043),len(K6066)"
   ]
  },
  {
   "cell_type": "code",
   "execution_count": 187,
   "id": "7a5e0262",
   "metadata": {},
   "outputs": [
    {
     "data": {
      "image/png": "[encoded data removed]",
      "text/plain": [
       "<Figure size 576x576 with 1 Axes>"
      ]
     },
     "metadata": {},
     "output_type": "display_data"
    }
   ],
   "source": [
    "plt.figure(figsize=(8,8))\n",
    "venn = venn3([K8484,K9043,K6066],('K8484', 'K9043', 'K6066'))\n"
   ]
  },
  {
   "cell_type": "code",
   "execution_count": 165,
   "id": "8bee24e7",
   "metadata": {},
   "outputs": [],
   "source": [
    "###import matplotlib\n",
    "import matplotlib.pyplot as plt\n",
    "from matplotlib_venn import venn3\n",
    "import re"
   ]
  },
  {
   "cell_type": "code",
   "execution_count": 167,
   "id": "48b7092f",
   "metadata": {},
   "outputs": [],
   "source": [
    "overlap_Taselisib = list(K8484&K6066&K9043)"
   ]
  },
  {
   "cell_type": "code",
   "execution_count": 180,
   "id": "ecae124d",
   "metadata": {},
   "outputs": [],
   "source": [
    "overlap_Alpelisib = list(K8484&K9043)"
   ]
  },
  {
   "cell_type": "code",
   "execution_count": 184,
   "id": "22d2c4c7",
   "metadata": {},
   "outputs": [],
   "source": [
    "overlap_GDC0077 = list(K8484&K9043) + list(K6066&K9043)"
   ]
  },
  {
   "cell_type": "code",
   "execution_count": 189,
   "id": "29505d31",
   "metadata": {},
   "outputs": [],
   "source": [
    "ALP = set(overlap_Alpelisib)\n",
    "TAS = set(overlap_Taselisib)\n",
    "GDC = set(overlap_GDC0077 )"
   ]
  },
  {
   "cell_type": "code",
   "execution_count": 190,
   "id": "58ee3c28",
   "metadata": {},
   "outputs": [
    {
     "data": {
      "image/png": "[encoded data removed]",
      "text/plain": [
       "<Figure size 576x576 with 1 Axes>"
      ]
     },
     "metadata": {},
     "output_type": "display_data"
    }
   ],
   "source": [
    "plt.figure(figsize=(8,8))\n",
    "venn = venn3([ALP,TAS,GDC],('Alpelisib screen', 'Taselisib screen', 'GDC-0077 screen'))\n",
    "\n"
   ]
  },
  {
   "cell_type": "code",
   "execution_count": 193,
   "id": "37f1806e",
   "metadata": {},
   "outputs": [],
   "source": [
    "overlap_overall = (TAS&GDC)"
   ]
  },
  {
   "cell_type": "code",
   "execution_count": 194,
   "id": "b4de3097",
   "metadata": {},
   "outputs": [
    {
     "data": {
      "text/html": [
       "<div>\n",
       "<style scoped>\n",
       "    .dataframe tbody tr th:only-of-type {\n",
       "        vertical-align: middle;\n",
       "    }\n",
       "\n",
       "    .dataframe tbody tr th {\n",
       "        vertical-align: top;\n",
       "    }\n",
       "\n",
       "    .dataframe thead th {\n",
       "        text-align: right;\n",
       "    }\n",
       "</style>\n",
       "<table border=\"1\" class=\"dataframe\">\n",
       "  <thead>\n",
       "    <tr style=\"text-align: right;\">\n",
       "      <th></th>\n",
       "      <th>Drug</th>\n",
       "      <th>Target</th>\n",
       "      <th>DMSO</th>\n",
       "      <th>GDC-0077</th>\n",
       "    </tr>\n",
       "  </thead>\n",
       "  <tbody>\n",
       "    <tr>\n",
       "      <th>200</th>\n",
       "      <td>Nilotinib</td>\n",
       "      <td>Autophagy; Bcr-Abl</td>\n",
       "      <td>0.936361</td>\n",
       "      <td>0.618924</td>\n",
       "    </tr>\n",
       "    <tr>\n",
       "      <th>245</th>\n",
       "      <td>Pimasertib</td>\n",
       "      <td>MEK</td>\n",
       "      <td>0.559299</td>\n",
       "      <td>0.244829</td>\n",
       "    </tr>\n",
       "    <tr>\n",
       "      <th>293</th>\n",
       "      <td>TAME hydrochloride</td>\n",
       "      <td>APC; Ser/Thr Protease</td>\n",
       "      <td>0.493810</td>\n",
       "      <td>0.431638</td>\n",
       "    </tr>\n",
       "    <tr>\n",
       "      <th>296</th>\n",
       "      <td>Tazemetostat</td>\n",
       "      <td>Histone Methyltransferase</td>\n",
       "      <td>0.525938</td>\n",
       "      <td>0.467214</td>\n",
       "    </tr>\n",
       "    <tr>\n",
       "      <th>321</th>\n",
       "      <td>Volasertib</td>\n",
       "      <td>Polo-like Kinase (PLK)</td>\n",
       "      <td>0.901415</td>\n",
       "      <td>0.603184</td>\n",
       "    </tr>\n",
       "    <tr>\n",
       "      <th>324</th>\n",
       "      <td>Vps34-IN-1</td>\n",
       "      <td>PI3K</td>\n",
       "      <td>0.698123</td>\n",
       "      <td>0.592872</td>\n",
       "    </tr>\n",
       "  </tbody>\n",
       "</table>\n",
       "</div>"
      ],
      "text/plain": [
       "                   Drug                     Target      DMSO  GDC-0077\n",
       "200           Nilotinib         Autophagy; Bcr-Abl  0.936361  0.618924\n",
       "245          Pimasertib                        MEK  0.559299  0.244829\n",
       "293  TAME hydrochloride      APC; Ser/Thr Protease  0.493810  0.431638\n",
       "296        Tazemetostat  Histone Methyltransferase  0.525938  0.467214\n",
       "321          Volasertib     Polo-like Kinase (PLK)  0.901415  0.603184\n",
       "324          Vps34-IN-1                       PI3K  0.698123  0.592872"
      ]
     },
     "execution_count": 194,
     "metadata": {},
     "output_type": "execute_result"
    }
   ],
   "source": [
    "K8484_GDC0077[K8484_GDC0077['Drug'].isin(overlap_overall)]"
   ]
  },
  {
   "cell_type": "code",
   "execution_count": 210,
   "id": "296b7f5e",
   "metadata": {},
   "outputs": [
    {
     "data": {
      "text/plain": [
       "['Tazemetostat',\n",
       " 'Nilotinib',\n",
       " 'VX-11e',\n",
       " 'Plinabulin',\n",
       " '9-95-1',\n",
       " 'TAME hydrochloride',\n",
       " 'Vps34-IN-1',\n",
       " 'CPI-360',\n",
       " 'Enzalutamide',\n",
       " 'Pimasertib']"
      ]
     },
     "execution_count": 210,
     "metadata": {},
     "output_type": "execute_result"
    }
   ],
   "source": [
    "overlap_Alpelisib"
   ]
  },
  {
   "cell_type": "code",
   "execution_count": 195,
   "id": "26ae8537",
   "metadata": {},
   "outputs": [
    {
     "data": {
      "text/plain": [
       "(19, 26, 29)"
      ]
     },
     "execution_count": 195,
     "metadata": {},
     "output_type": "execute_result"
    }
   ],
   "source": [
    "len(K8484),len(K9043),len(K6066)"
   ]
  },
  {
   "cell_type": "code",
   "execution_count": 6,
   "id": "c61c32f9",
   "metadata": {},
   "outputs": [],
   "source": [
    "K6066_GDC0077= pd.read_csv(\"/Users/parke15/Downloads/20210726_K6066_GDC-0077_combo_AUC_merged.csv\",header = 0)\n",
    "K9043_GDC0077= pd.read_csv(\"/Users/parke15/Downloads/20210803_K9043_GDC-0077_combo_AUC_merged.csv\",header = 0)\n",
    "K8484_GDC0077=pd.read_csv(\"/Users/parke15/Downloads/20210810_K8484_GDC-0077_combo_AUC_merged.csv\",header = 0)"
   ]
  },
  {
   "cell_type": "code",
   "execution_count": 266,
   "id": "83f02901",
   "metadata": {},
   "outputs": [
    {
     "data": {
      "text/plain": [
       "Text(0.5, 1.0, 'K6066')"
      ]
     },
     "execution_count": 266,
     "metadata": {},
     "output_type": "execute_result"
    },
    {
     "data": {
      "image/png": "[encoded data removed]",
      "text/plain": [
       "<Figure size 432x288 with 1 Axes>"
      ]
     },
     "metadata": {
      "needs_background": "light"
     },
     "output_type": "display_data"
    }
   ],
   "source": [
    "sns.scatterplot(data=K6066_GDC0077, x= 'DMSO', y = 'GDC-0077')\n",
    "plt.plot([a[0],b[0]],[a[1],b[1]], marker=\"o\", color=\"k\")\n",
    "sub_K6066=K6066_GDC0077[K6066_GDC0077['GDC-0077']-K6066_GDC0077['DMSO'] < -0.1]\n",
    "plt.scatter(sub_K6066['DMSO'], sub_K6066['GDC-0077'], marker='x', color='red')\n",
    "plt.title(\"K6066\")"
   ]
  },
  {
   "cell_type": "code",
   "execution_count": 267,
   "id": "d49ecbf2",
   "metadata": {},
   "outputs": [
    {
     "data": {
      "text/plain": [
       "52"
      ]
     },
     "execution_count": 267,
     "metadata": {},
     "output_type": "execute_result"
    }
   ],
   "source": [
    "K6066_0077 = sub_K6066\n",
    "len(K6066_0077)"
   ]
  },
  {
   "cell_type": "code",
   "execution_count": 265,
   "id": "132ca9c7",
   "metadata": {},
   "outputs": [
    {
     "data": {
      "text/plain": [
       "49"
      ]
     },
     "execution_count": 265,
     "metadata": {},
     "output_type": "execute_result"
    },
    {
     "data": {
      "image/png": "[encoded data removed]",
      "text/plain": [
       "<Figure size 432x288 with 1 Axes>"
      ]
     },
     "metadata": {
      "needs_background": "light"
     },
     "output_type": "display_data"
    }
   ],
   "source": [
    "sns.scatterplot(data=K9043_GDC0077, x= 'DMSO', y = 'GDC-0077')\n",
    "plt.plot([a[0],b[0]],[a[1],b[1]], marker=\"o\", color=\"k\")\n",
    "sub_K9043=K9043_GDC0077[K9043_GDC0077['GDC-0077']-K9043_GDC0077['DMSO'] < -0.2]\n",
    "plt.scatter(sub_K9043['DMSO'], sub_K9043['GDC-0077'], marker='x', color='red')\n",
    "plt.title(\"K9043\")\n",
    "K9043_0077 = sub_K9043\n",
    "len(K9043_0077)"
   ]
  },
  {
   "cell_type": "code",
   "execution_count": 264,
   "id": "20ab1ff8",
   "metadata": {},
   "outputs": [
    {
     "data": {
      "text/plain": [
       "57"
      ]
     },
     "execution_count": 264,
     "metadata": {},
     "output_type": "execute_result"
    },
    {
     "data": {
      "image/png": "[encoded data removed]",
      "text/plain": [
       "<Figure size 432x288 with 1 Axes>"
      ]
     },
     "metadata": {
      "needs_background": "light"
     },
     "output_type": "display_data"
    }
   ],
   "source": [
    "sns.scatterplot(data=K8484_GDC0077, x= 'DMSO', y = 'GDC-0077')\n",
    "plt.plot([a[0],b[0]],[a[1],b[1]], marker=\"o\", color=\"k\")\n",
    "sub_K8484=K8484_GDC0077[K8484_GDC0077['GDC-0077']-K8484_GDC0077['DMSO'] < -0.185]\n",
    "plt.scatter(sub_K8484['DMSO'], sub_K8484['GDC-0077'], marker='x', color='red')\n",
    "plt.title(\"K8484\")\n",
    "K8484_0077 = sub_K8484\n",
    "len(K8484_0077)"
   ]
  },
  {
   "cell_type": "code",
   "execution_count": 241,
   "id": "99e37bd7",
   "metadata": {},
   "outputs": [
    {
     "data": {
      "text/html": [
       "<div>\n",
       "<style scoped>\n",
       "    .dataframe tbody tr th:only-of-type {\n",
       "        vertical-align: middle;\n",
       "    }\n",
       "\n",
       "    .dataframe tbody tr th {\n",
       "        vertical-align: top;\n",
       "    }\n",
       "\n",
       "    .dataframe thead th {\n",
       "        text-align: right;\n",
       "    }\n",
       "</style>\n",
       "<table border=\"1\" class=\"dataframe\">\n",
       "  <thead>\n",
       "    <tr style=\"text-align: right;\">\n",
       "      <th></th>\n",
       "      <th>Drug</th>\n",
       "      <th>Target</th>\n",
       "      <th>DMSO</th>\n",
       "      <th>GDC-0077</th>\n",
       "    </tr>\n",
       "  </thead>\n",
       "  <tbody>\n",
       "    <tr>\n",
       "      <th>2</th>\n",
       "      <td>8-100-2</td>\n",
       "      <td>NaN</td>\n",
       "      <td>0.970863</td>\n",
       "      <td>0.743113</td>\n",
       "    </tr>\n",
       "    <tr>\n",
       "      <th>7</th>\n",
       "      <td>2-Methoxyestradiol</td>\n",
       "      <td>Apoptosis; Autophagy; Endogenous Metabolite; M...</td>\n",
       "      <td>0.942182</td>\n",
       "      <td>0.712902</td>\n",
       "    </tr>\n",
       "    <tr>\n",
       "      <th>10</th>\n",
       "      <td>4-Hydroxybenzyl alcohol</td>\n",
       "      <td>Apoptosis</td>\n",
       "      <td>0.975279</td>\n",
       "      <td>0.771629</td>\n",
       "    </tr>\n",
       "    <tr>\n",
       "      <th>19</th>\n",
       "      <td>A-366</td>\n",
       "      <td>Histone Methyltransferase</td>\n",
       "      <td>0.918372</td>\n",
       "      <td>0.710509</td>\n",
       "    </tr>\n",
       "    <tr>\n",
       "      <th>22</th>\n",
       "      <td>A66</td>\n",
       "      <td>PI3K</td>\n",
       "      <td>0.864887</td>\n",
       "      <td>0.622066</td>\n",
       "    </tr>\n",
       "    <tr>\n",
       "      <th>25</th>\n",
       "      <td>ABT-751</td>\n",
       "      <td>Autophagy; Microtubule/Tubulin</td>\n",
       "      <td>0.995680</td>\n",
       "      <td>0.614949</td>\n",
       "    </tr>\n",
       "    <tr>\n",
       "      <th>33</th>\n",
       "      <td>Alisertib</td>\n",
       "      <td>Apoptosis; Aurora Kinase; Autophagy</td>\n",
       "      <td>0.980033</td>\n",
       "      <td>0.726544</td>\n",
       "    </tr>\n",
       "    <tr>\n",
       "      <th>47</th>\n",
       "      <td>AZ6102</td>\n",
       "      <td>PARP</td>\n",
       "      <td>0.942681</td>\n",
       "      <td>0.714932</td>\n",
       "    </tr>\n",
       "    <tr>\n",
       "      <th>75</th>\n",
       "      <td>CP-673451</td>\n",
       "      <td>PDGFR</td>\n",
       "      <td>0.914549</td>\n",
       "      <td>0.708596</td>\n",
       "    </tr>\n",
       "    <tr>\n",
       "      <th>78</th>\n",
       "      <td>CPI-637</td>\n",
       "      <td>Epigenetic Reader Domain; Histone Acetyltransf...</td>\n",
       "      <td>0.851713</td>\n",
       "      <td>0.594500</td>\n",
       "    </tr>\n",
       "    <tr>\n",
       "      <th>83</th>\n",
       "      <td>Dabrafenib (Mesylate)</td>\n",
       "      <td>Raf</td>\n",
       "      <td>0.929132</td>\n",
       "      <td>0.673095</td>\n",
       "    </tr>\n",
       "    <tr>\n",
       "      <th>87</th>\n",
       "      <td>Daunorubicin (Hydrochloride)</td>\n",
       "      <td>ADC Cytotoxin; Autophagy; DNA/RNA Synthesis; T...</td>\n",
       "      <td>0.991339</td>\n",
       "      <td>0.597935</td>\n",
       "    </tr>\n",
       "    <tr>\n",
       "      <th>126</th>\n",
       "      <td>GSK6853</td>\n",
       "      <td>Epigenetic Reader Domain</td>\n",
       "      <td>0.948721</td>\n",
       "      <td>0.744542</td>\n",
       "    </tr>\n",
       "    <tr>\n",
       "      <th>138</th>\n",
       "      <td>Ipatasertib dihydrochloride</td>\n",
       "      <td>Akt</td>\n",
       "      <td>0.877794</td>\n",
       "      <td>0.590752</td>\n",
       "    </tr>\n",
       "    <tr>\n",
       "      <th>166</th>\n",
       "      <td>Lomeguatrib</td>\n",
       "      <td>DNA Methyltransferase</td>\n",
       "      <td>0.892165</td>\n",
       "      <td>0.634881</td>\n",
       "    </tr>\n",
       "    <tr>\n",
       "      <th>167</th>\n",
       "      <td>Lonidamine</td>\n",
       "      <td>Hexokinase; Mitochondrial Metabolism</td>\n",
       "      <td>1.000000</td>\n",
       "      <td>0.769327</td>\n",
       "    </tr>\n",
       "    <tr>\n",
       "      <th>171</th>\n",
       "      <td>LY2090314</td>\n",
       "      <td>GSK-3</td>\n",
       "      <td>1.000000</td>\n",
       "      <td>0.753673</td>\n",
       "    </tr>\n",
       "    <tr>\n",
       "      <th>197</th>\n",
       "      <td>Neratinib</td>\n",
       "      <td>EGFR</td>\n",
       "      <td>0.864665</td>\n",
       "      <td>0.660037</td>\n",
       "    </tr>\n",
       "    <tr>\n",
       "      <th>200</th>\n",
       "      <td>Nilotinib</td>\n",
       "      <td>Autophagy; Bcr-Abl</td>\n",
       "      <td>0.936361</td>\n",
       "      <td>0.618924</td>\n",
       "    </tr>\n",
       "    <tr>\n",
       "      <th>217</th>\n",
       "      <td>PAC-1</td>\n",
       "      <td>Apoptosis; Autophagy; Caspase</td>\n",
       "      <td>0.944182</td>\n",
       "      <td>0.741640</td>\n",
       "    </tr>\n",
       "    <tr>\n",
       "      <th>230</th>\n",
       "      <td>PF-3758309</td>\n",
       "      <td>PAK</td>\n",
       "      <td>0.761022</td>\n",
       "      <td>0.555861</td>\n",
       "    </tr>\n",
       "    <tr>\n",
       "      <th>235</th>\n",
       "      <td>PFI-1</td>\n",
       "      <td>Autophagy; Epigenetic Reader Domain</td>\n",
       "      <td>0.931767</td>\n",
       "      <td>0.728223</td>\n",
       "    </tr>\n",
       "    <tr>\n",
       "      <th>245</th>\n",
       "      <td>Pimasertib</td>\n",
       "      <td>MEK</td>\n",
       "      <td>0.559299</td>\n",
       "      <td>0.244829</td>\n",
       "    </tr>\n",
       "    <tr>\n",
       "      <th>252</th>\n",
       "      <td>Rabusertib</td>\n",
       "      <td>Autophagy; Checkpoint Kinase (Chk)</td>\n",
       "      <td>0.931050</td>\n",
       "      <td>0.686583</td>\n",
       "    </tr>\n",
       "    <tr>\n",
       "      <th>278</th>\n",
       "      <td>SIS3</td>\n",
       "      <td>TGF-beta/Smad</td>\n",
       "      <td>0.923982</td>\n",
       "      <td>0.717227</td>\n",
       "    </tr>\n",
       "    <tr>\n",
       "      <th>283</th>\n",
       "      <td>SNS-314</td>\n",
       "      <td>Aurora Kinase</td>\n",
       "      <td>0.619827</td>\n",
       "      <td>0.252168</td>\n",
       "    </tr>\n",
       "    <tr>\n",
       "      <th>285</th>\n",
       "      <td>Sorafenib (Tosylate)</td>\n",
       "      <td>Autophagy; FLT3; Raf; VEGFR</td>\n",
       "      <td>0.821677</td>\n",
       "      <td>0.603202</td>\n",
       "    </tr>\n",
       "    <tr>\n",
       "      <th>294</th>\n",
       "      <td>Tamoxifen (Citrate)</td>\n",
       "      <td>Autophagy; Estrogen Receptor/ERR</td>\n",
       "      <td>0.963933</td>\n",
       "      <td>0.731184</td>\n",
       "    </tr>\n",
       "    <tr>\n",
       "      <th>321</th>\n",
       "      <td>Volasertib</td>\n",
       "      <td>Polo-like Kinase (PLK)</td>\n",
       "      <td>0.901415</td>\n",
       "      <td>0.603184</td>\n",
       "    </tr>\n",
       "    <tr>\n",
       "      <th>325</th>\n",
       "      <td>VX-11e</td>\n",
       "      <td>ERK</td>\n",
       "      <td>0.799328</td>\n",
       "      <td>0.570228</td>\n",
       "    </tr>\n",
       "  </tbody>\n",
       "</table>\n",
       "</div>"
      ],
      "text/plain": [
       "                             Drug  \\\n",
       "2                         8-100-2   \n",
       "7              2-Methoxyestradiol   \n",
       "10        4-Hydroxybenzyl alcohol   \n",
       "19                          A-366   \n",
       "22                            A66   \n",
       "25                        ABT-751   \n",
       "33                      Alisertib   \n",
       "47                         AZ6102   \n",
       "75                      CP-673451   \n",
       "78                        CPI-637   \n",
       "83          Dabrafenib (Mesylate)   \n",
       "87   Daunorubicin (Hydrochloride)   \n",
       "126                       GSK6853   \n",
       "138   Ipatasertib dihydrochloride   \n",
       "166                   Lomeguatrib   \n",
       "167                    Lonidamine   \n",
       "171                     LY2090314   \n",
       "197                     Neratinib   \n",
       "200                     Nilotinib   \n",
       "217                         PAC-1   \n",
       "230                    PF-3758309   \n",
       "235                         PFI-1   \n",
       "245                    Pimasertib   \n",
       "252                    Rabusertib   \n",
       "278                          SIS3   \n",
       "283                       SNS-314   \n",
       "285          Sorafenib (Tosylate)   \n",
       "294           Tamoxifen (Citrate)   \n",
       "321                    Volasertib   \n",
       "325                        VX-11e   \n",
       "\n",
       "                                                Target      DMSO  GDC-0077  \n",
       "2                                                  NaN  0.970863  0.743113  \n",
       "7    Apoptosis; Autophagy; Endogenous Metabolite; M...  0.942182  0.712902  \n",
       "10                                           Apoptosis  0.975279  0.771629  \n",
       "19                           Histone Methyltransferase  0.918372  0.710509  \n",
       "22                                                PI3K  0.864887  0.622066  \n",
       "25                      Autophagy; Microtubule/Tubulin  0.995680  0.614949  \n",
       "33                 Apoptosis; Aurora Kinase; Autophagy  0.980033  0.726544  \n",
       "47                                                PARP  0.942681  0.714932  \n",
       "75                                               PDGFR  0.914549  0.708596  \n",
       "78   Epigenetic Reader Domain; Histone Acetyltransf...  0.851713  0.594500  \n",
       "83                                                 Raf  0.929132  0.673095  \n",
       "87   ADC Cytotoxin; Autophagy; DNA/RNA Synthesis; T...  0.991339  0.597935  \n",
       "126                           Epigenetic Reader Domain  0.948721  0.744542  \n",
       "138                                                Akt  0.877794  0.590752  \n",
       "166                              DNA Methyltransferase  0.892165  0.634881  \n",
       "167               Hexokinase; Mitochondrial Metabolism  1.000000  0.769327  \n",
       "171                                              GSK-3  1.000000  0.753673  \n",
       "197                                               EGFR  0.864665  0.660037  \n",
       "200                                 Autophagy; Bcr-Abl  0.936361  0.618924  \n",
       "217                      Apoptosis; Autophagy; Caspase  0.944182  0.741640  \n",
       "230                                                PAK  0.761022  0.555861  \n",
       "235                Autophagy; Epigenetic Reader Domain  0.931767  0.728223  \n",
       "245                                                MEK  0.559299  0.244829  \n",
       "252                 Autophagy; Checkpoint Kinase (Chk)  0.931050  0.686583  \n",
       "278                                      TGF-beta/Smad  0.923982  0.717227  \n",
       "283                                      Aurora Kinase  0.619827  0.252168  \n",
       "285                        Autophagy; FLT3; Raf; VEGFR  0.821677  0.603202  \n",
       "294                   Autophagy; Estrogen Receptor/ERR  0.963933  0.731184  \n",
       "321                             Polo-like Kinase (PLK)  0.901415  0.603184  \n",
       "325                                                ERK  0.799328  0.570228  "
      ]
     },
     "execution_count": 241,
     "metadata": {},
     "output_type": "execute_result"
    }
   ],
   "source": [
    "K8484_0077"
   ]
  },
  {
   "cell_type": "code",
   "execution_count": 256,
   "id": "210cd305",
   "metadata": {},
   "outputs": [],
   "source": [
    "K8484_G = set(K8484_0077['Drug'])\n",
    "K9043_G = set(K9043_0077['Drug'])\n",
    "K6066_G = set(K6066_0077['Drug'])"
   ]
  },
  {
   "cell_type": "code",
   "execution_count": 257,
   "id": "94ab5b54",
   "metadata": {},
   "outputs": [
    {
     "data": {
      "image/png": "[encoded data removed]",
      "text/plain": [
       "<Figure size 432x432 with 1 Axes>"
      ]
     },
     "metadata": {},
     "output_type": "display_data"
    }
   ],
   "source": [
    "plt.figure(figsize=(6,6))\n",
    "venn = venn3([K8484_G,K9043_G,K6066_G],('K8484', 'K9043', 'K6066'))"
   ]
  },
  {
   "cell_type": "code",
   "execution_count": 258,
   "id": "44d1aa8b",
   "metadata": {},
   "outputs": [],
   "source": [
    "GDC_0077_overlap = K8484_G&K9043_G&K6066_G"
   ]
  },
  {
   "cell_type": "code",
   "execution_count": 261,
   "id": "6d32e2da",
   "metadata": {},
   "outputs": [
    {
     "data": {
      "text/plain": [
       "{'Neratinib', 'Nilotinib', 'Pimasertib'}"
      ]
     },
     "execution_count": 261,
     "metadata": {},
     "output_type": "execute_result"
    }
   ],
   "source": [
    "GDC_0077_overlap"
   ]
  },
  {
   "cell_type": "code",
   "execution_count": 262,
   "id": "e61b09dc",
   "metadata": {},
   "outputs": [],
   "source": [
    "GDC_0077_overlap = list(GDC_0077_overlap)"
   ]
  },
  {
   "cell_type": "code",
   "execution_count": 263,
   "id": "79fb0108",
   "metadata": {},
   "outputs": [
    {
     "data": {
      "text/html": [
       "<div>\n",
       "<style scoped>\n",
       "    .dataframe tbody tr th:only-of-type {\n",
       "        vertical-align: middle;\n",
       "    }\n",
       "\n",
       "    .dataframe tbody tr th {\n",
       "        vertical-align: top;\n",
       "    }\n",
       "\n",
       "    .dataframe thead th {\n",
       "        text-align: right;\n",
       "    }\n",
       "</style>\n",
       "<table border=\"1\" class=\"dataframe\">\n",
       "  <thead>\n",
       "    <tr style=\"text-align: right;\">\n",
       "      <th></th>\n",
       "      <th>Drug</th>\n",
       "      <th>Target</th>\n",
       "    </tr>\n",
       "  </thead>\n",
       "  <tbody>\n",
       "    <tr>\n",
       "      <th>197</th>\n",
       "      <td>Neratinib</td>\n",
       "      <td>EGFR</td>\n",
       "    </tr>\n",
       "    <tr>\n",
       "      <th>200</th>\n",
       "      <td>Nilotinib</td>\n",
       "      <td>Autophagy; Bcr-Abl</td>\n",
       "    </tr>\n",
       "    <tr>\n",
       "      <th>245</th>\n",
       "      <td>Pimasertib</td>\n",
       "      <td>MEK</td>\n",
       "    </tr>\n",
       "  </tbody>\n",
       "</table>\n",
       "</div>"
      ],
      "text/plain": [
       "           Drug              Target\n",
       "197   Neratinib                EGFR\n",
       "200   Nilotinib  Autophagy; Bcr-Abl\n",
       "245  Pimasertib                 MEK"
      ]
     },
     "execution_count": 263,
     "metadata": {},
     "output_type": "execute_result"
    }
   ],
   "source": [
    "K8484_GDC0077[['Drug','Target']][K8484_GDC0077['Drug'].isin(GDC_0077_overlap)]"
   ]
  },
  {
   "cell_type": "code",
   "execution_count": 5,
   "id": "396d03f2",
   "metadata": {},
   "outputs": [],
   "source": [
    "K6066_Taselisib= pd.read_csv(\"/Users/parke15/Downloads/20210913_K6066_Taselisib_combo_AUC_merged.csv\",header = 0)\n",
    "K9043_Taselisib= pd.read_csv(\"/Users/parke15/Downloads/20210913_K9043_Taselisib_combo_AUC_merged.csv\",header = 0)\n",
    "K8484_Taselisib=pd.read_csv(\"/Users/parke15/Downloads/20210913_confluence_K8484_combo_AUC_merged.csv\",header = 0)"
   ]
  },
  {
   "cell_type": "code",
   "execution_count": 277,
   "id": "380415b3",
   "metadata": {},
   "outputs": [
    {
     "data": {
      "text/plain": [
       "54"
      ]
     },
     "execution_count": 277,
     "metadata": {},
     "output_type": "execute_result"
    },
    {
     "data": {
      "image/png": "[encoded data removed]",
      "text/plain": [
       "<Figure size 432x288 with 1 Axes>"
      ]
     },
     "metadata": {
      "needs_background": "light"
     },
     "output_type": "display_data"
    }
   ],
   "source": [
    "sns.scatterplot(data=K8484_Taselisib, x= 'DMSO', y = 'Taselisib')\n",
    "plt.plot([a[0],b[0]],[a[1],b[1]], marker=\"o\", color=\"k\")\n",
    "sub_K8484T=K8484_Taselisib[K8484_Taselisib['Taselisib']-K8484_Taselisib['DMSO'] < -0.43]\n",
    "plt.scatter(sub_K8484T['DMSO'], sub_K8484T['Taselisib'], marker='x', color='red')\n",
    "plt.title(\"K8484\")\n",
    "K8484_T = sub_K8484T\n",
    "len(K8484_T)"
   ]
  },
  {
   "cell_type": "code",
   "execution_count": 281,
   "id": "9a5ac9c7",
   "metadata": {},
   "outputs": [
    {
     "data": {
      "text/plain": [
       "51"
      ]
     },
     "execution_count": 281,
     "metadata": {},
     "output_type": "execute_result"
    },
    {
     "data": {
      "image/png": "[encoded data removed]",
      "text/plain": [
       "<Figure size 432x288 with 1 Axes>"
      ]
     },
     "metadata": {
      "needs_background": "light"
     },
     "output_type": "display_data"
    }
   ],
   "source": [
    "sns.scatterplot(data=K6066_Taselisib, x= 'DMSO', y = 'Taselisib')\n",
    "plt.plot([a[0],b[0]],[a[1],b[1]], marker=\"o\", color=\"k\")\n",
    "sub_K6066T=K6066_Taselisib[K6066_Taselisib['Taselisib']-K6066_Taselisib['DMSO'] < -0.15]\n",
    "plt.scatter(sub_K6066T['DMSO'], sub_K6066T['Taselisib'], marker='x', color='red')\n",
    "plt.title(\"K6066\")\n",
    "K6066_T = sub_K6066T\n",
    "len(K6066_T)"
   ]
  },
  {
   "cell_type": "code",
   "execution_count": 66,
   "id": "b34ea6c2",
   "metadata": {},
   "outputs": [
    {
     "ename": "NameError",
     "evalue": "name 'K9043_Taselisib' is not defined",
     "output_type": "error",
     "traceback": [
      "\u001b[0;31m---------------------------------------------------------------------------\u001b[0m",
      "\u001b[0;31mNameError\u001b[0m                                 Traceback (most recent call last)",
      "\u001b[0;32m<ipython-input-66-94a8486eb3a4>\u001b[0m in \u001b[0;36m<module>\u001b[0;34m\u001b[0m\n\u001b[0;32m----> 1\u001b[0;31m \u001b[0msns\u001b[0m\u001b[0;34m.\u001b[0m\u001b[0mscatterplot\u001b[0m\u001b[0;34m(\u001b[0m\u001b[0mdata\u001b[0m\u001b[0;34m=\u001b[0m\u001b[0mK9043_Taselisib\u001b[0m\u001b[0;34m,\u001b[0m \u001b[0mx\u001b[0m\u001b[0;34m=\u001b[0m \u001b[0;34m'DMSO'\u001b[0m\u001b[0;34m,\u001b[0m \u001b[0my\u001b[0m \u001b[0;34m=\u001b[0m \u001b[0;34m'Taselisib'\u001b[0m\u001b[0;34m)\u001b[0m\u001b[0;34m\u001b[0m\u001b[0;34m\u001b[0m\u001b[0m\n\u001b[0m\u001b[1;32m      2\u001b[0m \u001b[0mplt\u001b[0m\u001b[0;34m.\u001b[0m\u001b[0mplot\u001b[0m\u001b[0;34m(\u001b[0m\u001b[0;34m[\u001b[0m\u001b[0ma\u001b[0m\u001b[0;34m[\u001b[0m\u001b[0;36m0\u001b[0m\u001b[0;34m]\u001b[0m\u001b[0;34m,\u001b[0m\u001b[0mb\u001b[0m\u001b[0;34m[\u001b[0m\u001b[0;36m0\u001b[0m\u001b[0;34m]\u001b[0m\u001b[0;34m]\u001b[0m\u001b[0;34m,\u001b[0m\u001b[0;34m[\u001b[0m\u001b[0ma\u001b[0m\u001b[0;34m[\u001b[0m\u001b[0;36m1\u001b[0m\u001b[0;34m]\u001b[0m\u001b[0;34m,\u001b[0m\u001b[0mb\u001b[0m\u001b[0;34m[\u001b[0m\u001b[0;36m1\u001b[0m\u001b[0;34m]\u001b[0m\u001b[0;34m]\u001b[0m\u001b[0;34m,\u001b[0m \u001b[0mmarker\u001b[0m\u001b[0;34m=\u001b[0m\u001b[0;34m\"o\"\u001b[0m\u001b[0;34m,\u001b[0m \u001b[0mcolor\u001b[0m\u001b[0;34m=\u001b[0m\u001b[0;34m\"k\"\u001b[0m\u001b[0;34m)\u001b[0m\u001b[0;34m\u001b[0m\u001b[0;34m\u001b[0m\u001b[0m\n\u001b[1;32m      3\u001b[0m \u001b[0msub_K9043T\u001b[0m\u001b[0;34m=\u001b[0m\u001b[0mK9043_Taselisib\u001b[0m\u001b[0;34m[\u001b[0m\u001b[0mK9043_Taselisib\u001b[0m\u001b[0;34m[\u001b[0m\u001b[0;34m'Taselisib'\u001b[0m\u001b[0;34m]\u001b[0m\u001b[0;34m-\u001b[0m\u001b[0mK9043_Taselisib\u001b[0m\u001b[0;34m[\u001b[0m\u001b[0;34m'DMSO'\u001b[0m\u001b[0;34m]\u001b[0m \u001b[0;34m<\u001b[0m \u001b[0;34m-\u001b[0m\u001b[0;36m0.28\u001b[0m\u001b[0;34m]\u001b[0m\u001b[0;34m\u001b[0m\u001b[0;34m\u001b[0m\u001b[0m\n\u001b[1;32m      4\u001b[0m \u001b[0mplt\u001b[0m\u001b[0;34m.\u001b[0m\u001b[0mscatter\u001b[0m\u001b[0;34m(\u001b[0m\u001b[0msub_K9043T\u001b[0m\u001b[0;34m[\u001b[0m\u001b[0;34m'DMSO'\u001b[0m\u001b[0;34m]\u001b[0m\u001b[0;34m,\u001b[0m \u001b[0msub_K9043T\u001b[0m\u001b[0;34m[\u001b[0m\u001b[0;34m'Taselisib'\u001b[0m\u001b[0;34m]\u001b[0m\u001b[0;34m,\u001b[0m \u001b[0mmarker\u001b[0m\u001b[0;34m=\u001b[0m\u001b[0;34m'x'\u001b[0m\u001b[0;34m,\u001b[0m \u001b[0mcolor\u001b[0m\u001b[0;34m=\u001b[0m\u001b[0;34m'red'\u001b[0m\u001b[0;34m)\u001b[0m\u001b[0;34m\u001b[0m\u001b[0;34m\u001b[0m\u001b[0m\n\u001b[1;32m      5\u001b[0m \u001b[0mplt\u001b[0m\u001b[0;34m.\u001b[0m\u001b[0mtitle\u001b[0m\u001b[0;34m(\u001b[0m\u001b[0;34m\"K9043\"\u001b[0m\u001b[0;34m)\u001b[0m\u001b[0;34m\u001b[0m\u001b[0;34m\u001b[0m\u001b[0m\n",
      "\u001b[0;31mNameError\u001b[0m: name 'K9043_Taselisib' is not defined"
     ]
    }
   ],
   "source": [
    "sns.scatterplot(data=K9043_Taselisib, x= 'DMSO', y = 'Taselisib')\n",
    "plt.plot([a[0],b[0]],[a[1],b[1]], marker=\"o\", color=\"k\")\n",
    "sub_K9043T=K9043_Taselisib[K9043_Taselisib['Taselisib']-K9043_Taselisib['DMSO'] < -0.28]\n",
    "plt.scatter(sub_K9043T['DMSO'], sub_K9043T['Taselisib'], marker='x', color='red')\n",
    "plt.title(\"K9043\")\n",
    "K9043_T = sub_K9043T\n",
    "len(K9043_T)"
   ]
  },
  {
   "cell_type": "code",
   "execution_count": 287,
   "id": "60a5f430",
   "metadata": {},
   "outputs": [],
   "source": [
    "K8484_tase = set(K8484_T['Drug'])\n",
    "K9043_tase = set(K9043_T['Drug'])\n",
    "K6066_tase = set(K6066_T['Drug'])"
   ]
  },
  {
   "cell_type": "code",
   "execution_count": 288,
   "id": "eac61166",
   "metadata": {},
   "outputs": [
    {
     "data": {
      "image/png": "[encoded data removed]",
      "text/plain": [
       "<Figure size 432x432 with 1 Axes>"
      ]
     },
     "metadata": {},
     "output_type": "display_data"
    }
   ],
   "source": [
    "plt.figure(figsize=(6,6))\n",
    "venn = venn3([K8484_tase,K9043_tase,K6066_tase],('K8484', 'K9043', 'K6066'))"
   ]
  },
  {
   "cell_type": "code",
   "execution_count": 289,
   "id": "79a24cb9",
   "metadata": {},
   "outputs": [],
   "source": [
    "taselisib_overlap = list(K8484_tase&K9043_tase&K6066_tase)"
   ]
  },
  {
   "cell_type": "code",
   "execution_count": 290,
   "id": "61cc2eab",
   "metadata": {},
   "outputs": [
    {
     "data": {
      "text/html": [
       "<div>\n",
       "<style scoped>\n",
       "    .dataframe tbody tr th:only-of-type {\n",
       "        vertical-align: middle;\n",
       "    }\n",
       "\n",
       "    .dataframe tbody tr th {\n",
       "        vertical-align: top;\n",
       "    }\n",
       "\n",
       "    .dataframe thead th {\n",
       "        text-align: right;\n",
       "    }\n",
       "</style>\n",
       "<table border=\"1\" class=\"dataframe\">\n",
       "  <thead>\n",
       "    <tr style=\"text-align: right;\">\n",
       "      <th></th>\n",
       "      <th>Drug</th>\n",
       "      <th>Target</th>\n",
       "    </tr>\n",
       "  </thead>\n",
       "  <tbody>\n",
       "    <tr>\n",
       "      <th>21</th>\n",
       "      <td>A-674563 (hydrochloride)</td>\n",
       "      <td>Akt</td>\n",
       "    </tr>\n",
       "    <tr>\n",
       "      <th>46</th>\n",
       "      <td>AZ 628</td>\n",
       "      <td>Raf</td>\n",
       "    </tr>\n",
       "    <tr>\n",
       "      <th>77</th>\n",
       "      <td>CPI-360</td>\n",
       "      <td>Histone Methyltransferase</td>\n",
       "    </tr>\n",
       "    <tr>\n",
       "      <th>106</th>\n",
       "      <td>FTI-277 (hydrochloride)</td>\n",
       "      <td>Farnesyl Transferase</td>\n",
       "    </tr>\n",
       "    <tr>\n",
       "      <th>143</th>\n",
       "      <td>JH093-34</td>\n",
       "      <td>NaN</td>\n",
       "    </tr>\n",
       "    <tr>\n",
       "      <th>166</th>\n",
       "      <td>Lomeguatrib</td>\n",
       "      <td>DNA Methyltransferase</td>\n",
       "    </tr>\n",
       "    <tr>\n",
       "      <th>190</th>\n",
       "      <td>MS432</td>\n",
       "      <td>NaN</td>\n",
       "    </tr>\n",
       "    <tr>\n",
       "      <th>230</th>\n",
       "      <td>PF-3758309</td>\n",
       "      <td>PAK</td>\n",
       "    </tr>\n",
       "    <tr>\n",
       "      <th>245</th>\n",
       "      <td>Pimasertib</td>\n",
       "      <td>MEK</td>\n",
       "    </tr>\n",
       "    <tr>\n",
       "      <th>270</th>\n",
       "      <td>Selonsertib</td>\n",
       "      <td>MAP3K</td>\n",
       "    </tr>\n",
       "    <tr>\n",
       "      <th>281</th>\n",
       "      <td>SMI-16a</td>\n",
       "      <td>Pim</td>\n",
       "    </tr>\n",
       "    <tr>\n",
       "      <th>296</th>\n",
       "      <td>Tazemetostat</td>\n",
       "      <td>Histone Methyltransferase</td>\n",
       "    </tr>\n",
       "    <tr>\n",
       "      <th>312</th>\n",
       "      <td>TRMT</td>\n",
       "      <td>NaN</td>\n",
       "    </tr>\n",
       "    <tr>\n",
       "      <th>329</th>\n",
       "      <td>YM-155</td>\n",
       "      <td>Autophagy; Survivin</td>\n",
       "    </tr>\n",
       "  </tbody>\n",
       "</table>\n",
       "</div>"
      ],
      "text/plain": [
       "                         Drug                     Target\n",
       "21   A-674563 (hydrochloride)                        Akt\n",
       "46                     AZ 628                        Raf\n",
       "77                    CPI-360  Histone Methyltransferase\n",
       "106   FTI-277 (hydrochloride)       Farnesyl Transferase\n",
       "143                  JH093-34                        NaN\n",
       "166               Lomeguatrib      DNA Methyltransferase\n",
       "190                     MS432                        NaN\n",
       "230                PF-3758309                        PAK\n",
       "245                Pimasertib                        MEK\n",
       "270               Selonsertib                      MAP3K\n",
       "281                   SMI-16a                        Pim\n",
       "296              Tazemetostat  Histone Methyltransferase\n",
       "312                      TRMT                        NaN\n",
       "329                    YM-155        Autophagy; Survivin"
      ]
     },
     "execution_count": 290,
     "metadata": {},
     "output_type": "execute_result"
    }
   ],
   "source": [
    "K8484_Taselisib[['Drug','Target']][K8484_Taselisib['Drug'].isin(taselisib_overlap)]"
   ]
  },
  {
   "cell_type": "code",
   "execution_count": null,
   "id": "9b52f6ff",
   "metadata": {},
   "outputs": [],
   "source": []
  }
 ],
 "metadata": {
  "kernelspec": {
   "display_name": "Python 3",
   "language": "python",
   "name": "python3"
  },
  "language_info": {
   "codemirror_mode": {
    "name": "ipython",
    "version": 3
   },
   "file_extension": ".py",
   "mimetype": "text/x-python",
   "name": "python",
   "nbconvert_exporter": "python",
   "pygments_lexer": "ipython3",
   "version": "3.8.8"
  }
 },
 "nbformat": 4,
 "nbformat_minor": 5
}
